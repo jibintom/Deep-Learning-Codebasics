{
  "cells": [
    {
      "cell_type": "markdown",
      "metadata": {
        "id": "view-in-github",
        "colab_type": "text"
      },
      "source": [
        "<a href=\"https://colab.research.google.com/github/jibintom/Deep-Learning-Codebasics/blob/main/a12.%20Gradient%20Descent%20For%20Neural%20Network/Gradient_Descent_and_Neural_Network_for_Deep_Learning_.ipynb\" target=\"_parent\"><img src=\"https://colab.research.google.com/assets/colab-badge.svg\" alt=\"Open In Colab\"/></a>"
      ]
    },
    {
      "cell_type": "markdown",
      "metadata": {
        "id": "o6Hhb2uO7gDe"
      },
      "source": [
        "<h2 style=\"color:green\" align=\"center\">Implement Gradient Descent For Neural Network (or Logistic Regression)</h2>"
      ]
    },
    {
      "cell_type": "markdown",
      "metadata": {
        "id": "u6cTiOEU7gDg"
      },
      "source": [
        "<h4 style=\"color:blue\">Predicting if a person would buy life insurnace based on his age using logistic regression</h4>"
      ]
    },
    {
      "cell_type": "markdown",
      "metadata": {
        "id": "GlF09cWX7gDh"
      },
      "source": [
        "Above is a binary logistic regression problem as there are only two possible outcomes (i.e. if person buys insurance or he/she doesn't). "
      ]
    },
    {
      "cell_type": "code",
      "execution_count": 20,
      "metadata": {
        "id": "3dNzVa_H7gDh"
      },
      "outputs": [],
      "source": [
        "import numpy as np\n",
        "import tensorflow as tf\n",
        "from tensorflow import keras\n",
        "import pandas as pd\n",
        "import matplotlib.pyplot as plt\n",
        "%matplotlib inline"
      ]
    },
    {
      "cell_type": "code",
      "execution_count": 60,
      "metadata": {
        "colab": {
          "base_uri": "https://localhost:8080/",
          "height": 206
        },
        "id": "ujni1F177gDi",
        "outputId": "1052df64-6fb2-46fd-c78f-42b56e4664ac"
      },
      "outputs": [
        {
          "output_type": "execute_result",
          "data": {
            "text/plain": [
              "   age  affordibility  bought_insurance\n",
              "0   22              1                 0\n",
              "1   25              0                 0\n",
              "2   47              1                 1\n",
              "3   52              0                 0\n",
              "4   46              1                 1"
            ],
            "text/html": [
              "\n",
              "  <div id=\"df-2154c437-8689-40c2-9fc5-5849d15ca5e7\">\n",
              "    <div class=\"colab-df-container\">\n",
              "      <div>\n",
              "<style scoped>\n",
              "    .dataframe tbody tr th:only-of-type {\n",
              "        vertical-align: middle;\n",
              "    }\n",
              "\n",
              "    .dataframe tbody tr th {\n",
              "        vertical-align: top;\n",
              "    }\n",
              "\n",
              "    .dataframe thead th {\n",
              "        text-align: right;\n",
              "    }\n",
              "</style>\n",
              "<table border=\"1\" class=\"dataframe\">\n",
              "  <thead>\n",
              "    <tr style=\"text-align: right;\">\n",
              "      <th></th>\n",
              "      <th>age</th>\n",
              "      <th>affordibility</th>\n",
              "      <th>bought_insurance</th>\n",
              "    </tr>\n",
              "  </thead>\n",
              "  <tbody>\n",
              "    <tr>\n",
              "      <th>0</th>\n",
              "      <td>22</td>\n",
              "      <td>1</td>\n",
              "      <td>0</td>\n",
              "    </tr>\n",
              "    <tr>\n",
              "      <th>1</th>\n",
              "      <td>25</td>\n",
              "      <td>0</td>\n",
              "      <td>0</td>\n",
              "    </tr>\n",
              "    <tr>\n",
              "      <th>2</th>\n",
              "      <td>47</td>\n",
              "      <td>1</td>\n",
              "      <td>1</td>\n",
              "    </tr>\n",
              "    <tr>\n",
              "      <th>3</th>\n",
              "      <td>52</td>\n",
              "      <td>0</td>\n",
              "      <td>0</td>\n",
              "    </tr>\n",
              "    <tr>\n",
              "      <th>4</th>\n",
              "      <td>46</td>\n",
              "      <td>1</td>\n",
              "      <td>1</td>\n",
              "    </tr>\n",
              "  </tbody>\n",
              "</table>\n",
              "</div>\n",
              "      <button class=\"colab-df-convert\" onclick=\"convertToInteractive('df-2154c437-8689-40c2-9fc5-5849d15ca5e7')\"\n",
              "              title=\"Convert this dataframe to an interactive table.\"\n",
              "              style=\"display:none;\">\n",
              "        \n",
              "  <svg xmlns=\"http://www.w3.org/2000/svg\" height=\"24px\"viewBox=\"0 0 24 24\"\n",
              "       width=\"24px\">\n",
              "    <path d=\"M0 0h24v24H0V0z\" fill=\"none\"/>\n",
              "    <path d=\"M18.56 5.44l.94 2.06.94-2.06 2.06-.94-2.06-.94-.94-2.06-.94 2.06-2.06.94zm-11 1L8.5 8.5l.94-2.06 2.06-.94-2.06-.94L8.5 2.5l-.94 2.06-2.06.94zm10 10l.94 2.06.94-2.06 2.06-.94-2.06-.94-.94-2.06-.94 2.06-2.06.94z\"/><path d=\"M17.41 7.96l-1.37-1.37c-.4-.4-.92-.59-1.43-.59-.52 0-1.04.2-1.43.59L10.3 9.45l-7.72 7.72c-.78.78-.78 2.05 0 2.83L4 21.41c.39.39.9.59 1.41.59.51 0 1.02-.2 1.41-.59l7.78-7.78 2.81-2.81c.8-.78.8-2.07 0-2.86zM5.41 20L4 18.59l7.72-7.72 1.47 1.35L5.41 20z\"/>\n",
              "  </svg>\n",
              "      </button>\n",
              "      \n",
              "  <style>\n",
              "    .colab-df-container {\n",
              "      display:flex;\n",
              "      flex-wrap:wrap;\n",
              "      gap: 12px;\n",
              "    }\n",
              "\n",
              "    .colab-df-convert {\n",
              "      background-color: #E8F0FE;\n",
              "      border: none;\n",
              "      border-radius: 50%;\n",
              "      cursor: pointer;\n",
              "      display: none;\n",
              "      fill: #1967D2;\n",
              "      height: 32px;\n",
              "      padding: 0 0 0 0;\n",
              "      width: 32px;\n",
              "    }\n",
              "\n",
              "    .colab-df-convert:hover {\n",
              "      background-color: #E2EBFA;\n",
              "      box-shadow: 0px 1px 2px rgba(60, 64, 67, 0.3), 0px 1px 3px 1px rgba(60, 64, 67, 0.15);\n",
              "      fill: #174EA6;\n",
              "    }\n",
              "\n",
              "    [theme=dark] .colab-df-convert {\n",
              "      background-color: #3B4455;\n",
              "      fill: #D2E3FC;\n",
              "    }\n",
              "\n",
              "    [theme=dark] .colab-df-convert:hover {\n",
              "      background-color: #434B5C;\n",
              "      box-shadow: 0px 1px 3px 1px rgba(0, 0, 0, 0.15);\n",
              "      filter: drop-shadow(0px 1px 2px rgba(0, 0, 0, 0.3));\n",
              "      fill: #FFFFFF;\n",
              "    }\n",
              "  </style>\n",
              "\n",
              "      <script>\n",
              "        const buttonEl =\n",
              "          document.querySelector('#df-2154c437-8689-40c2-9fc5-5849d15ca5e7 button.colab-df-convert');\n",
              "        buttonEl.style.display =\n",
              "          google.colab.kernel.accessAllowed ? 'block' : 'none';\n",
              "\n",
              "        async function convertToInteractive(key) {\n",
              "          const element = document.querySelector('#df-2154c437-8689-40c2-9fc5-5849d15ca5e7');\n",
              "          const dataTable =\n",
              "            await google.colab.kernel.invokeFunction('convertToInteractive',\n",
              "                                                     [key], {});\n",
              "          if (!dataTable) return;\n",
              "\n",
              "          const docLinkHtml = 'Like what you see? Visit the ' +\n",
              "            '<a target=\"_blank\" href=https://colab.research.google.com/notebooks/data_table.ipynb>data table notebook</a>'\n",
              "            + ' to learn more about interactive tables.';\n",
              "          element.innerHTML = '';\n",
              "          dataTable['output_type'] = 'display_data';\n",
              "          await google.colab.output.renderOutput(dataTable, element);\n",
              "          const docLink = document.createElement('div');\n",
              "          docLink.innerHTML = docLinkHtml;\n",
              "          element.appendChild(docLink);\n",
              "        }\n",
              "      </script>\n",
              "    </div>\n",
              "  </div>\n",
              "  "
            ]
          },
          "metadata": {},
          "execution_count": 60
        }
      ],
      "source": [
        "df= pd.read_csv(\"12_insurance_data.csv\")\n",
        "df.head()"
      ]
    },
    {
      "cell_type": "markdown",
      "metadata": {
        "id": "HmlKFrWX7gDj"
      },
      "source": [
        "**Split train and test set**"
      ]
    },
    {
      "cell_type": "code",
      "execution_count": 61,
      "metadata": {
        "id": "J-5-hRP_7gDk"
      },
      "outputs": [],
      "source": [
        "from sklearn.model_selection import train_test_split\n",
        "X_train, X_test, y_train, y_test = train_test_split(df[['age','affordibility']],df.bought_insurance,test_size=0.2, random_state=25)"
      ]
    },
    {
      "cell_type": "markdown",
      "metadata": {
        "id": "_0I2vLHy7gDl"
      },
      "source": [
        "**Preprocessing: Scale the data so that both age and affordibility are in same scaling range**"
      ]
    },
    {
      "cell_type": "code",
      "execution_count": 62,
      "metadata": {
        "id": "9lVsebBj7gDl"
      },
      "outputs": [],
      "source": [
        "X_train_scaled = X_train.copy()\n",
        "X_train_scaled[\"age\"]=X_train_scaled[\"age\"]/100\n",
        "\n",
        "X_test_scaled = X_test.copy()\n",
        "X_test_scaled[\"age\"]= X_test_scaled[\"age\"]/100"
      ]
    },
    {
      "cell_type": "markdown",
      "metadata": {
        "id": "wPmtTgMw7gDm"
      },
      "source": [
        "**Model Building: First build a model in keras/tensorflow and see what weights and bias values it comes up with. We will than try to reproduce same weights and bias in our plain python implementation of gradient descent. Below is the architecture of our simple neural network**\n",
        "\n",
        "![12_nn.png](data:image/png;base64,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)"
      ]
    },
    {
      "cell_type": "code",
      "source": [
        "from tensorflow.python import metrics\n",
        "model = keras.Sequential([\n",
        "    keras.layers.Dense(1, input_shape=(2,), activation=\"sigmoid\", kernel_initializer=\"ones\", bias_initializer=\"zeros\")\n",
        "])\n",
        "\n",
        "model.compile(optimizer=\"adam\",\n",
        "              loss=\"binary_crossentropy\",\n",
        "              metrics=[\"accuracy\"])\n",
        "\n",
        "model.fit(X_train_scaled, y_train, epochs=5000)"
      ],
      "metadata": {
        "id": "SbbBDkhufpDR"
      },
      "execution_count": null,
      "outputs": []
    },
    {
      "cell_type": "markdown",
      "metadata": {
        "id": "HlaULy2H7gDn"
      },
      "source": [
        "**Evaluate the model on test set**"
      ]
    },
    {
      "cell_type": "code",
      "execution_count": 25,
      "metadata": {
        "scrolled": false,
        "id": "we4DK_3m7gDo",
        "colab": {
          "base_uri": "https://localhost:8080/"
        },
        "outputId": "6f0c9a3c-1164-4c71-c5ec-14de14dac41f"
      },
      "outputs": [
        {
          "output_type": "stream",
          "name": "stdout",
          "text": [
            "1/1 [==============================] - 0s 223ms/step - loss: 0.3550 - accuracy: 1.0000\n"
          ]
        },
        {
          "output_type": "execute_result",
          "data": {
            "text/plain": [
              "[0.35497748851776123, 1.0]"
            ]
          },
          "metadata": {},
          "execution_count": 25
        }
      ],
      "source": [
        "model.evaluate(X_test_scaled, y_test)"
      ]
    },
    {
      "cell_type": "code",
      "execution_count": 26,
      "metadata": {
        "id": "WSa-iDKu7gDo",
        "colab": {
          "base_uri": "https://localhost:8080/"
        },
        "outputId": "64c617a5-0e82-4a41-c422-a740c65ad810"
      },
      "outputs": [
        {
          "output_type": "execute_result",
          "data": {
            "text/plain": [
              "array([[0.7054848 ],\n",
              "       [0.35569546],\n",
              "       [0.16827846],\n",
              "       [0.47801173],\n",
              "       [0.7260697 ],\n",
              "       [0.8294984 ]], dtype=float32)"
            ]
          },
          "metadata": {},
          "execution_count": 26
        }
      ],
      "source": [
        "model.predict(X_test_scaled)"
      ]
    },
    {
      "cell_type": "code",
      "execution_count": 27,
      "metadata": {
        "scrolled": true,
        "id": "Y8hhtYld7gDo",
        "colab": {
          "base_uri": "https://localhost:8080/"
        },
        "outputId": "770bdc4c-1bb2-4374-b256-cdad16733228"
      },
      "outputs": [
        {
          "data": {
            "text/plain": [
              "2     1\n",
              "10    0\n",
              "21    0\n",
              "11    0\n",
              "14    1\n",
              "9     1\n",
              "Name: bought_insurance, dtype: int64"
            ]
          },
          "execution_count": 27,
          "metadata": {},
          "output_type": "execute_result"
        }
      ],
      "source": [
        "y_test"
      ]
    },
    {
      "cell_type": "markdown",
      "metadata": {
        "id": "9s-3Tr3X7gDp"
      },
      "source": [
        "**Now get the value of weights and bias from the model**"
      ]
    },
    {
      "cell_type": "code",
      "execution_count": 28,
      "metadata": {
        "id": "kSsthTlq7gDp"
      },
      "outputs": [],
      "source": [
        "coef, intercept = model.get_weights()"
      ]
    },
    {
      "cell_type": "code",
      "execution_count": 29,
      "metadata": {
        "scrolled": false,
        "id": "8XNtG8ei7gDp",
        "colab": {
          "base_uri": "https://localhost:8080/"
        },
        "outputId": "c4b94c6e-ecfb-40e5-8417-b02a0d8e3039"
      },
      "outputs": [
        {
          "data": {
            "text/plain": [
              "(array([[5.0608673],\n",
              "        [1.4086503]], dtype=float32), array([-2.913703], dtype=float32))"
            ]
          },
          "execution_count": 29,
          "metadata": {},
          "output_type": "execute_result"
        }
      ],
      "source": [
        "coef, intercept"
      ]
    },
    {
      "cell_type": "markdown",
      "metadata": {
        "id": "eYwt7qsZ7gDq"
      },
      "source": [
        "**This means w1=5.060867, w2=1.4086502, bias =-2.9137027**"
      ]
    },
    {
      "cell_type": "code",
      "execution_count": 30,
      "metadata": {
        "id": "wijKXAV57gDr",
        "colab": {
          "base_uri": "https://localhost:8080/",
          "height": 237
        },
        "outputId": "7092c998-4840-4f50-e726-407a63de6304"
      },
      "outputs": [
        {
          "data": {
            "text/html": [
              "\n",
              "  <div id=\"df-438bdb1c-d213-4e18-b37d-29a532c0450c\">\n",
              "    <div class=\"colab-df-container\">\n",
              "      <div>\n",
              "<style scoped>\n",
              "    .dataframe tbody tr th:only-of-type {\n",
              "        vertical-align: middle;\n",
              "    }\n",
              "\n",
              "    .dataframe tbody tr th {\n",
              "        vertical-align: top;\n",
              "    }\n",
              "\n",
              "    .dataframe thead th {\n",
              "        text-align: right;\n",
              "    }\n",
              "</style>\n",
              "<table border=\"1\" class=\"dataframe\">\n",
              "  <thead>\n",
              "    <tr style=\"text-align: right;\">\n",
              "      <th></th>\n",
              "      <th>age</th>\n",
              "      <th>affordibility</th>\n",
              "    </tr>\n",
              "  </thead>\n",
              "  <tbody>\n",
              "    <tr>\n",
              "      <th>2</th>\n",
              "      <td>47</td>\n",
              "      <td>1</td>\n",
              "    </tr>\n",
              "    <tr>\n",
              "      <th>10</th>\n",
              "      <td>18</td>\n",
              "      <td>1</td>\n",
              "    </tr>\n",
              "    <tr>\n",
              "      <th>21</th>\n",
              "      <td>26</td>\n",
              "      <td>0</td>\n",
              "    </tr>\n",
              "    <tr>\n",
              "      <th>11</th>\n",
              "      <td>28</td>\n",
              "      <td>1</td>\n",
              "    </tr>\n",
              "    <tr>\n",
              "      <th>14</th>\n",
              "      <td>49</td>\n",
              "      <td>1</td>\n",
              "    </tr>\n",
              "    <tr>\n",
              "      <th>9</th>\n",
              "      <td>61</td>\n",
              "      <td>1</td>\n",
              "    </tr>\n",
              "  </tbody>\n",
              "</table>\n",
              "</div>\n",
              "      <button class=\"colab-df-convert\" onclick=\"convertToInteractive('df-438bdb1c-d213-4e18-b37d-29a532c0450c')\"\n",
              "              title=\"Convert this dataframe to an interactive table.\"\n",
              "              style=\"display:none;\">\n",
              "        \n",
              "  <svg xmlns=\"http://www.w3.org/2000/svg\" height=\"24px\"viewBox=\"0 0 24 24\"\n",
              "       width=\"24px\">\n",
              "    <path d=\"M0 0h24v24H0V0z\" fill=\"none\"/>\n",
              "    <path d=\"M18.56 5.44l.94 2.06.94-2.06 2.06-.94-2.06-.94-.94-2.06-.94 2.06-2.06.94zm-11 1L8.5 8.5l.94-2.06 2.06-.94-2.06-.94L8.5 2.5l-.94 2.06-2.06.94zm10 10l.94 2.06.94-2.06 2.06-.94-2.06-.94-.94-2.06-.94 2.06-2.06.94z\"/><path d=\"M17.41 7.96l-1.37-1.37c-.4-.4-.92-.59-1.43-.59-.52 0-1.04.2-1.43.59L10.3 9.45l-7.72 7.72c-.78.78-.78 2.05 0 2.83L4 21.41c.39.39.9.59 1.41.59.51 0 1.02-.2 1.41-.59l7.78-7.78 2.81-2.81c.8-.78.8-2.07 0-2.86zM5.41 20L4 18.59l7.72-7.72 1.47 1.35L5.41 20z\"/>\n",
              "  </svg>\n",
              "      </button>\n",
              "      \n",
              "  <style>\n",
              "    .colab-df-container {\n",
              "      display:flex;\n",
              "      flex-wrap:wrap;\n",
              "      gap: 12px;\n",
              "    }\n",
              "\n",
              "    .colab-df-convert {\n",
              "      background-color: #E8F0FE;\n",
              "      border: none;\n",
              "      border-radius: 50%;\n",
              "      cursor: pointer;\n",
              "      display: none;\n",
              "      fill: #1967D2;\n",
              "      height: 32px;\n",
              "      padding: 0 0 0 0;\n",
              "      width: 32px;\n",
              "    }\n",
              "\n",
              "    .colab-df-convert:hover {\n",
              "      background-color: #E2EBFA;\n",
              "      box-shadow: 0px 1px 2px rgba(60, 64, 67, 0.3), 0px 1px 3px 1px rgba(60, 64, 67, 0.15);\n",
              "      fill: #174EA6;\n",
              "    }\n",
              "\n",
              "    [theme=dark] .colab-df-convert {\n",
              "      background-color: #3B4455;\n",
              "      fill: #D2E3FC;\n",
              "    }\n",
              "\n",
              "    [theme=dark] .colab-df-convert:hover {\n",
              "      background-color: #434B5C;\n",
              "      box-shadow: 0px 1px 3px 1px rgba(0, 0, 0, 0.15);\n",
              "      filter: drop-shadow(0px 1px 2px rgba(0, 0, 0, 0.3));\n",
              "      fill: #FFFFFF;\n",
              "    }\n",
              "  </style>\n",
              "\n",
              "      <script>\n",
              "        const buttonEl =\n",
              "          document.querySelector('#df-438bdb1c-d213-4e18-b37d-29a532c0450c button.colab-df-convert');\n",
              "        buttonEl.style.display =\n",
              "          google.colab.kernel.accessAllowed ? 'block' : 'none';\n",
              "\n",
              "        async function convertToInteractive(key) {\n",
              "          const element = document.querySelector('#df-438bdb1c-d213-4e18-b37d-29a532c0450c');\n",
              "          const dataTable =\n",
              "            await google.colab.kernel.invokeFunction('convertToInteractive',\n",
              "                                                     [key], {});\n",
              "          if (!dataTable) return;\n",
              "\n",
              "          const docLinkHtml = 'Like what you see? Visit the ' +\n",
              "            '<a target=\"_blank\" href=https://colab.research.google.com/notebooks/data_table.ipynb>data table notebook</a>'\n",
              "            + ' to learn more about interactive tables.';\n",
              "          element.innerHTML = '';\n",
              "          dataTable['output_type'] = 'display_data';\n",
              "          await google.colab.output.renderOutput(dataTable, element);\n",
              "          const docLink = document.createElement('div');\n",
              "          docLink.innerHTML = docLinkHtml;\n",
              "          element.appendChild(docLink);\n",
              "        }\n",
              "      </script>\n",
              "    </div>\n",
              "  </div>\n",
              "  "
            ],
            "text/plain": [
              "    age  affordibility\n",
              "2    47              1\n",
              "10   18              1\n",
              "21   26              0\n",
              "11   28              1\n",
              "14   49              1\n",
              "9    61              1"
            ]
          },
          "execution_count": 30,
          "metadata": {},
          "output_type": "execute_result"
        }
      ],
      "source": [
        "X_test"
      ]
    },
    {
      "cell_type": "markdown",
      "metadata": {
        "id": "S0Ulv74K7gDr"
      },
      "source": [
        "**Instead of model.predict, write our own prediction function that uses w1,w2 and bias**"
      ]
    },
    {
      "cell_type": "code",
      "source": [
        "def sigmoid(x):\n",
        "  import math\n",
        "  return 1/(1+math.exp(-x))\n",
        "sigmoid(18)"
      ],
      "metadata": {
        "id": "ZI3xT0LWyZWM",
        "colab": {
          "base_uri": "https://localhost:8080/"
        },
        "outputId": "329f4b8d-a935-40f0-cdb8-0a3eb9eff1c3"
      },
      "execution_count": 31,
      "outputs": [
        {
          "data": {
            "text/plain": [
              "0.9999999847700205"
            ]
          },
          "execution_count": 31,
          "metadata": {},
          "output_type": "execute_result"
        }
      ]
    },
    {
      "cell_type": "code",
      "execution_count": 32,
      "metadata": {
        "id": "hNXsRuso7gDr",
        "colab": {
          "base_uri": "https://localhost:8080/"
        },
        "outputId": "6116a458-29a0-448f-fbe2-b041af0231f4"
      },
      "outputs": [
        {
          "data": {
            "text/plain": [
              "0.705484819775958"
            ]
          },
          "execution_count": 32,
          "metadata": {},
          "output_type": "execute_result"
        }
      ],
      "source": [
        "def prediction_function(age, affordability):\n",
        "  weighted_sum=age*coef[0] + affordability*coef[1] + intercept\n",
        "  return sigmoid(weighted_sum)\n",
        "\n",
        "prediction_function(.47, 1)"
      ]
    },
    {
      "cell_type": "code",
      "execution_count": 33,
      "metadata": {
        "scrolled": false,
        "id": "XTk1jUGO7gDs",
        "outputId": "7650a17f-3933-4ccd-e0e1-8f7a59817047",
        "colab": {
          "base_uri": "https://localhost:8080/"
        }
      },
      "outputs": [
        {
          "data": {
            "text/plain": [
              "0.35569544317951163"
            ]
          },
          "execution_count": 33,
          "metadata": {},
          "output_type": "execute_result"
        }
      ],
      "source": [
        "prediction_function(.18, 1)"
      ]
    },
    {
      "cell_type": "markdown",
      "metadata": {
        "id": "40B-S7K47gDs"
      },
      "source": [
        "**Now we start implementing gradient descent in plain python. Again the goal is to come up with same w1, w2 and bias that keras model calculated. We want to show how keras/tensorflow would have computed these values internally using gradient descent**"
      ]
    },
    {
      "cell_type": "markdown",
      "metadata": {
        "id": "3Fw7vZ2x7gDs"
      },
      "source": [
        "**First write couple of helper routines such as sigmoid and log_loss**"
      ]
    },
    {
      "cell_type": "code",
      "execution_count": 34,
      "metadata": {
        "id": "bbKIkzEx7gDt"
      },
      "outputs": [],
      "source": [
        "def sigmoid_numpy(x):\n",
        "  return 1/(1+np.exp(-x))"
      ]
    },
    {
      "cell_type": "code",
      "execution_count": 35,
      "metadata": {
        "id": "a-xDfnQo7gDt"
      },
      "outputs": [],
      "source": [
        "def log_loss(y_true, y_predicted):\n",
        "    epsilon = 1e-15\n",
        "    y_predicted_new = [max(i,epsilon) for i in y_predicted]\n",
        "    y_predicted_new = [min(i,1-epsilon) for i in y_predicted_new]\n",
        "    y_predicted_new = np.array(y_predicted_new)\n",
        "    return -np.mean(y_true*np.log(y_predicted_new)+(1-y_true)*np.log(1-y_predicted_new))"
      ]
    },
    {
      "cell_type": "markdown",
      "metadata": {
        "id": "h9M2RB1K7gDt"
      },
      "source": [
        "**All right now comes the time to implement our final gradient descent function !! yay !!!**"
      ]
    },
    {
      "cell_type": "code",
      "execution_count": 36,
      "metadata": {
        "id": "PhV6lbqR7gDt"
      },
      "outputs": [],
      "source": [
        "def gradient_descent(age, affordability, y_true, epochs, loss_thresold):\n",
        "    w1 = w2 = 1\n",
        "    bias = 0\n",
        "    rate = 0.5\n",
        "    n = len(age)\n",
        "    for i in range(epochs):\n",
        "        weighted_sum = w1 * age + w2 * affordability + bias\n",
        "        y_predicted = sigmoid_numpy(weighted_sum)\n",
        "        loss = log_loss(y_true, y_predicted)\n",
        "\n",
        "        w1d = (1/n)*np.dot(np.transpose(age),(y_predicted-y_true)) \n",
        "        w2d = (1/n)*np.dot(np.transpose(affordability),(y_predicted-y_true)) \n",
        "\n",
        "        bias_d = np.mean(y_predicted-y_true)\n",
        "        w1 = w1 - rate * w1d\n",
        "        w2 = w2 - rate * w2d\n",
        "        bias = bias - rate * bias_d\n",
        "\n",
        "        print (f'Epoch:{i}, w1:{w1}, w2:{w2}, bias:{bias}, loss:{loss}')\n",
        "\n",
        "        if loss<=loss_thresold:\n",
        "            break\n",
        "\n",
        "    return w1, w2, bias"
      ]
    },
    {
      "cell_type": "code",
      "source": [
        "gradient_descent(X_train_scaled['age'],X_train_scaled['affordibility'],y_train,1000,0.4631)"
      ],
      "metadata": {
        "id": "lgpRT1LyfkZz"
      },
      "execution_count": null,
      "outputs": []
    },
    {
      "cell_type": "markdown",
      "source": [
        "**(5.051047623653049, 1.4569794548473887, -2.9596534546250037)**"
      ],
      "metadata": {
        "id": "v7FE_cPQHh3d"
      }
    },
    {
      "cell_type": "code",
      "execution_count": 59,
      "metadata": {
        "id": "IWIVRflK7gDu",
        "outputId": "e96955da-6274-42e8-bbd2-3f608394de19",
        "colab": {
          "base_uri": "https://localhost:8080/"
        }
      },
      "outputs": [
        {
          "output_type": "execute_result",
          "data": {
            "text/plain": [
              "(array([[5.0608673],\n",
              "        [1.4086503]], dtype=float32), array([-2.913703], dtype=float32))"
            ]
          },
          "metadata": {},
          "execution_count": 59
        }
      ],
      "source": [
        "coef, intercept"
      ]
    },
    {
      "cell_type": "markdown",
      "metadata": {
        "id": "38gN6SZS7gDv"
      },
      "source": [
        "**This shows that in the end we were able to come up with same value of w1,w2 and bias using a plain python implementation of gradient descent function**"
      ]
    },
    {
      "cell_type": "markdown",
      "source": [
        "**Implement our own custom neural network class**\n",
        "\n",
        "---\n",
        "\n"
      ],
      "metadata": {
        "id": "knTw5FpL-oyk"
      }
    },
    {
      "cell_type": "code",
      "source": [
        "class myNN:\n",
        "    def __init__(self):\n",
        "        self.w1 = 1 \n",
        "        self.w2 = 1\n",
        "        self.bias = 0\n",
        "        \n",
        "    def fit(self, X, y, epochs, loss_thresold):\n",
        "        self.w1, self.w2, self.bias = self.gradient_descent(X['age'],X['affordibility'],y, epochs, loss_thresold)\n",
        "        print(f\"Final weights and bias: w1: {self.w1}, w2: {self.w2}, bias: {self.bias}\")\n",
        "        \n",
        "    def predict(self, X_test):\n",
        "        weighted_sum = self.w1*X_test['age'] + self.w2*X_test['affordibility'] + self.bias\n",
        "        return sigmoid_numpy(weighted_sum)\n",
        "\n",
        "    def gradient_descent(self, age,affordability, y_true, epochs, loss_thresold):\n",
        "        w1 = w2 = 1\n",
        "        bias = 0\n",
        "        rate = 0.5\n",
        "        n = len(age)\n",
        "        for i in range(epochs):\n",
        "            weighted_sum = w1 * age + w2 * affordability + bias\n",
        "            y_predicted = sigmoid_numpy(weighted_sum)\n",
        "            loss = log_loss(y_true, y_predicted)\n",
        "            \n",
        "            w1d = (1/n)*np.dot(np.transpose(age),(y_predicted-y_true)) \n",
        "            w2d = (1/n)*np.dot(np.transpose(affordability),(y_predicted-y_true)) \n",
        "\n",
        "            bias_d = np.mean(y_predicted-y_true)\n",
        "            w1 = w1 - rate * w1d\n",
        "            w2 = w2 - rate * w2d\n",
        "            bias = bias - rate * bias_d\n",
        "            \n",
        "            if i%50==0:\n",
        "                print (f'Epoch:{i}, w1:{w1}, w2:{w2}, bias:{bias}, loss:{loss}')\n",
        "            \n",
        "            if loss<=loss_thresold:\n",
        "                print (f'Epoch:{i}, w1:{w1}, w2:{w2}, bias:{bias}, loss:{loss}')\n",
        "                break\n",
        "\n",
        "        return w1, w2, bias"
      ],
      "metadata": {
        "id": "f1PKaoqR-wLV"
      },
      "execution_count": 80,
      "outputs": []
    },
    {
      "cell_type": "code",
      "source": [
        "customModel = myNN()\n",
        "customModel.fit(X_train_scaled, y_train, epochs=8000, loss_thresold=0.4631)"
      ],
      "metadata": {
        "colab": {
          "base_uri": "https://localhost:8080/"
        },
        "id": "SIlh9n1WaBJk",
        "outputId": "10cf1e67-f32d-4691-c103-72e474f67bba"
      },
      "execution_count": 81,
      "outputs": [
        {
          "output_type": "stream",
          "name": "stdout",
          "text": [
            "Epoch:0, w1:0.974907633470177, w2:0.948348125394529, bias:-0.11341867736368583, loss:0.7113403233723417\n",
            "Epoch:50, w1:1.503319554173139, w2:1.108384790367645, bias:-1.2319047301235464, loss:0.5675865113475955\n",
            "Epoch:100, w1:2.200713131760032, w2:1.2941584023238903, bias:-1.6607009122062801, loss:0.5390680417774752\n",
            "Epoch:150, w1:2.8495727769689085, w2:1.3696895491572745, bias:-1.986105845859897, loss:0.5176462164249294\n",
            "Epoch:200, w1:3.443016970881803, w2:1.4042218624465033, bias:-2.2571369883752723, loss:0.5005011269691375\n",
            "Epoch:250, w1:3.982450494649576, w2:1.4239127329321233, bias:-2.494377365971801, loss:0.48654089537617085\n",
            "Epoch:300, w1:4.472179522095915, w2:1.438787986553552, bias:-2.707387811922373, loss:0.4750814640632793\n",
            "Epoch:350, w1:4.917245868007634, w2:1.4525660781176122, bias:-2.901176333556766, loss:0.46561475306999006\n",
            "Epoch:366, w1:5.051047623653049, w2:1.4569794548473887, bias:-2.9596534546250037, loss:0.46293944095888917\n",
            "Final weights and bias: w1: 5.051047623653049, w2: 1.4569794548473887, bias: -2.9596534546250037\n"
          ]
        }
      ]
    },
    {
      "cell_type": "code",
      "source": [
        "coef, intercept"
      ],
      "metadata": {
        "colab": {
          "base_uri": "https://localhost:8080/"
        },
        "id": "Aztng5HCeyWq",
        "outputId": "8a153b21-878f-4efe-9588-087cea0c2de3"
      },
      "execution_count": 82,
      "outputs": [
        {
          "output_type": "execute_result",
          "data": {
            "text/plain": [
              "(array([[5.0608673],\n",
              "        [1.4086503]], dtype=float32), array([-2.913703], dtype=float32))"
            ]
          },
          "metadata": {},
          "execution_count": 82
        }
      ]
    },
    {
      "cell_type": "markdown",
      "source": [
        "**This shows that in the end we were able to come up with same value of w1,w2 and bias using a plain python implementation of gradient descent function**"
      ],
      "metadata": {
        "id": "W1FpZSN6e15E"
      }
    },
    {
      "cell_type": "code",
      "source": [
        "X_test_scaled"
      ],
      "metadata": {
        "colab": {
          "base_uri": "https://localhost:8080/",
          "height": 237
        },
        "id": "oNNT7RQFe3I9",
        "outputId": "727d4f2a-3244-44e2-fe0b-4458f83d65be"
      },
      "execution_count": 83,
      "outputs": [
        {
          "output_type": "execute_result",
          "data": {
            "text/plain": [
              "     age  affordibility\n",
              "2   0.47              1\n",
              "10  0.18              1\n",
              "21  0.26              0\n",
              "11  0.28              1\n",
              "14  0.49              1\n",
              "9   0.61              1"
            ],
            "text/html": [
              "\n",
              "  <div id=\"df-223a5ba8-7e31-454c-a6e7-03ba9faa35a3\">\n",
              "    <div class=\"colab-df-container\">\n",
              "      <div>\n",
              "<style scoped>\n",
              "    .dataframe tbody tr th:only-of-type {\n",
              "        vertical-align: middle;\n",
              "    }\n",
              "\n",
              "    .dataframe tbody tr th {\n",
              "        vertical-align: top;\n",
              "    }\n",
              "\n",
              "    .dataframe thead th {\n",
              "        text-align: right;\n",
              "    }\n",
              "</style>\n",
              "<table border=\"1\" class=\"dataframe\">\n",
              "  <thead>\n",
              "    <tr style=\"text-align: right;\">\n",
              "      <th></th>\n",
              "      <th>age</th>\n",
              "      <th>affordibility</th>\n",
              "    </tr>\n",
              "  </thead>\n",
              "  <tbody>\n",
              "    <tr>\n",
              "      <th>2</th>\n",
              "      <td>0.47</td>\n",
              "      <td>1</td>\n",
              "    </tr>\n",
              "    <tr>\n",
              "      <th>10</th>\n",
              "      <td>0.18</td>\n",
              "      <td>1</td>\n",
              "    </tr>\n",
              "    <tr>\n",
              "      <th>21</th>\n",
              "      <td>0.26</td>\n",
              "      <td>0</td>\n",
              "    </tr>\n",
              "    <tr>\n",
              "      <th>11</th>\n",
              "      <td>0.28</td>\n",
              "      <td>1</td>\n",
              "    </tr>\n",
              "    <tr>\n",
              "      <th>14</th>\n",
              "      <td>0.49</td>\n",
              "      <td>1</td>\n",
              "    </tr>\n",
              "    <tr>\n",
              "      <th>9</th>\n",
              "      <td>0.61</td>\n",
              "      <td>1</td>\n",
              "    </tr>\n",
              "  </tbody>\n",
              "</table>\n",
              "</div>\n",
              "      <button class=\"colab-df-convert\" onclick=\"convertToInteractive('df-223a5ba8-7e31-454c-a6e7-03ba9faa35a3')\"\n",
              "              title=\"Convert this dataframe to an interactive table.\"\n",
              "              style=\"display:none;\">\n",
              "        \n",
              "  <svg xmlns=\"http://www.w3.org/2000/svg\" height=\"24px\"viewBox=\"0 0 24 24\"\n",
              "       width=\"24px\">\n",
              "    <path d=\"M0 0h24v24H0V0z\" fill=\"none\"/>\n",
              "    <path d=\"M18.56 5.44l.94 2.06.94-2.06 2.06-.94-2.06-.94-.94-2.06-.94 2.06-2.06.94zm-11 1L8.5 8.5l.94-2.06 2.06-.94-2.06-.94L8.5 2.5l-.94 2.06-2.06.94zm10 10l.94 2.06.94-2.06 2.06-.94-2.06-.94-.94-2.06-.94 2.06-2.06.94z\"/><path d=\"M17.41 7.96l-1.37-1.37c-.4-.4-.92-.59-1.43-.59-.52 0-1.04.2-1.43.59L10.3 9.45l-7.72 7.72c-.78.78-.78 2.05 0 2.83L4 21.41c.39.39.9.59 1.41.59.51 0 1.02-.2 1.41-.59l7.78-7.78 2.81-2.81c.8-.78.8-2.07 0-2.86zM5.41 20L4 18.59l7.72-7.72 1.47 1.35L5.41 20z\"/>\n",
              "  </svg>\n",
              "      </button>\n",
              "      \n",
              "  <style>\n",
              "    .colab-df-container {\n",
              "      display:flex;\n",
              "      flex-wrap:wrap;\n",
              "      gap: 12px;\n",
              "    }\n",
              "\n",
              "    .colab-df-convert {\n",
              "      background-color: #E8F0FE;\n",
              "      border: none;\n",
              "      border-radius: 50%;\n",
              "      cursor: pointer;\n",
              "      display: none;\n",
              "      fill: #1967D2;\n",
              "      height: 32px;\n",
              "      padding: 0 0 0 0;\n",
              "      width: 32px;\n",
              "    }\n",
              "\n",
              "    .colab-df-convert:hover {\n",
              "      background-color: #E2EBFA;\n",
              "      box-shadow: 0px 1px 2px rgba(60, 64, 67, 0.3), 0px 1px 3px 1px rgba(60, 64, 67, 0.15);\n",
              "      fill: #174EA6;\n",
              "    }\n",
              "\n",
              "    [theme=dark] .colab-df-convert {\n",
              "      background-color: #3B4455;\n",
              "      fill: #D2E3FC;\n",
              "    }\n",
              "\n",
              "    [theme=dark] .colab-df-convert:hover {\n",
              "      background-color: #434B5C;\n",
              "      box-shadow: 0px 1px 3px 1px rgba(0, 0, 0, 0.15);\n",
              "      filter: drop-shadow(0px 1px 2px rgba(0, 0, 0, 0.3));\n",
              "      fill: #FFFFFF;\n",
              "    }\n",
              "  </style>\n",
              "\n",
              "      <script>\n",
              "        const buttonEl =\n",
              "          document.querySelector('#df-223a5ba8-7e31-454c-a6e7-03ba9faa35a3 button.colab-df-convert');\n",
              "        buttonEl.style.display =\n",
              "          google.colab.kernel.accessAllowed ? 'block' : 'none';\n",
              "\n",
              "        async function convertToInteractive(key) {\n",
              "          const element = document.querySelector('#df-223a5ba8-7e31-454c-a6e7-03ba9faa35a3');\n",
              "          const dataTable =\n",
              "            await google.colab.kernel.invokeFunction('convertToInteractive',\n",
              "                                                     [key], {});\n",
              "          if (!dataTable) return;\n",
              "\n",
              "          const docLinkHtml = 'Like what you see? Visit the ' +\n",
              "            '<a target=\"_blank\" href=https://colab.research.google.com/notebooks/data_table.ipynb>data table notebook</a>'\n",
              "            + ' to learn more about interactive tables.';\n",
              "          element.innerHTML = '';\n",
              "          dataTable['output_type'] = 'display_data';\n",
              "          await google.colab.output.renderOutput(dataTable, element);\n",
              "          const docLink = document.createElement('div');\n",
              "          docLink.innerHTML = docLinkHtml;\n",
              "          element.appendChild(docLink);\n",
              "        }\n",
              "      </script>\n",
              "    </div>\n",
              "  </div>\n",
              "  "
            ]
          },
          "metadata": {},
          "execution_count": 83
        }
      ]
    },
    {
      "cell_type": "markdown",
      "source": [
        "**(1) Predict using custom model**"
      ],
      "metadata": {
        "id": "ZOnDEd9Ie7u1"
      }
    },
    {
      "cell_type": "code",
      "source": [
        "customModel.predict(X_test_scaled)"
      ],
      "metadata": {
        "colab": {
          "base_uri": "https://localhost:8080/"
        },
        "id": "Ds3sShC2e4rM",
        "outputId": "e172a09a-930f-46b0-b4df-f41ea8e3f5b1"
      },
      "execution_count": 84,
      "outputs": [
        {
          "output_type": "execute_result",
          "data": {
            "text/plain": [
              "2     0.705020\n",
              "10    0.355836\n",
              "21    0.161599\n",
              "11    0.477919\n",
              "14    0.725586\n",
              "9     0.828987\n",
              "dtype: float64"
            ]
          },
          "metadata": {},
          "execution_count": 84
        }
      ]
    },
    {
      "cell_type": "markdown",
      "source": [
        "**(2) Predict using tensorflow model**"
      ],
      "metadata": {
        "id": "nH8CbF-hfRO2"
      }
    },
    {
      "cell_type": "code",
      "source": [
        "model.predict(X_test_scaled)"
      ],
      "metadata": {
        "colab": {
          "base_uri": "https://localhost:8080/"
        },
        "id": "bVcPZBzpfSRP",
        "outputId": "3c308010-4dca-4a5c-8dd9-31c354890def"
      },
      "execution_count": 85,
      "outputs": [
        {
          "output_type": "execute_result",
          "data": {
            "text/plain": [
              "array([[0.7054848 ],\n",
              "       [0.35569546],\n",
              "       [0.16827846],\n",
              "       [0.47801173],\n",
              "       [0.7260697 ],\n",
              "       [0.8294984 ]], dtype=float32)"
            ]
          },
          "metadata": {},
          "execution_count": 85
        }
      ]
    },
    {
      "cell_type": "markdown",
      "source": [
        "**Above you can compare predictions from our own custom model and tensoflow model. You will notice that predictions are almost same**"
      ],
      "metadata": {
        "id": "6I9oxQZhfX-8"
      }
    }
  ],
  "metadata": {
    "kernelspec": {
      "display_name": "Python 3",
      "language": "python",
      "name": "python3"
    },
    "language_info": {
      "codemirror_mode": {
        "name": "ipython",
        "version": 3
      },
      "file_extension": ".py",
      "mimetype": "text/x-python",
      "name": "python",
      "nbconvert_exporter": "python",
      "pygments_lexer": "ipython3",
      "version": "3.8.5"
    },
    "colab": {
      "provenance": [],
      "collapsed_sections": [],
      "include_colab_link": true
    }
  },
  "nbformat": 4,
  "nbformat_minor": 0
}