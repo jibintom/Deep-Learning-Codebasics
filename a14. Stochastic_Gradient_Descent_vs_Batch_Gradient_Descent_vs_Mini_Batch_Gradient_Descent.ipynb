{
  "cells": [
    {
      "cell_type": "markdown",
      "metadata": {
        "id": "view-in-github",
        "colab_type": "text"
      },
      "source": [
        "<a href=\"https://colab.research.google.com/github/jibintom/Deep-Learning-Codebasics/blob/main/a14.%20Stochastic_Gradient_Descent_vs_Batch_Gradient_Descent_vs_Mini_Batch_Gradient_Descent.ipynb\" target=\"_parent\"><img src=\"https://colab.research.google.com/assets/colab-badge.svg\" alt=\"Open In Colab\"/></a>"
      ]
    },
    {
      "cell_type": "markdown",
      "metadata": {
        "id": "qGjfF7NqPQLH"
      },
      "source": [
        "<h2 style='color:blue' align='center'>Implementation of stochastic and batch grandient descent in python</h2>"
      ]
    },
    {
      "cell_type": "markdown",
      "metadata": {
        "id": "l2s8oxQ-PQLQ"
      },
      "source": [
        "#### We will use very simple home prices data set to implement batch and stochastic gradient descent in python. Batch gradient descent uses *all* training samples in forward pass to calculate cumulitive error and than we adjust weights using derivaties. In stochastic GD, we randomly pick *one* training sample, perform forward pass, compute the error and immidiately adjust weights. So the key difference here is that to adjust weights batch GD will use *all* training samples where as stochastic GD will use one randomly picked training sample"
      ]
    },
    {
      "cell_type": "code",
      "execution_count": null,
      "metadata": {
        "id": "bFu00LxIPQLS"
      },
      "outputs": [],
      "source": [
        "import pandas as pd\n",
        "import numpy as np\n",
        "import matplotlib.pyplot as plt\n",
        "%matplotlib inline\n",
        "\n",
        "import warnings\n",
        "warnings.filterwarnings(\"ignore\")"
      ]
    },
    {
      "cell_type": "markdown",
      "metadata": {
        "id": "FLpMZc7iPQLV"
      },
      "source": [
        "##### Load the dataset in pandas dataframe"
      ]
    },
    {
      "cell_type": "code",
      "execution_count": null,
      "metadata": {
        "colab": {
          "base_uri": "https://localhost:8080/",
          "height": 206
        },
        "id": "a4adBT0YPQLV",
        "outputId": "ef281a4a-cc4b-4a1c-e4d7-6c7e47605bfd"
      },
      "outputs": [
        {
          "output_type": "execute_result",
          "data": {
            "text/plain": [
              "    area  bedrooms  price\n",
              "7   3300         4  155.0\n",
              "8   1310         3   50.0\n",
              "13  1100         2   40.0\n",
              "12  1000         2   38.0\n",
              "3   1521         3   75.0"
            ],
            "text/html": [
              "\n",
              "  <div id=\"df-834c4692-71fc-46e6-a995-bb2d2f1f6940\">\n",
              "    <div class=\"colab-df-container\">\n",
              "      <div>\n",
              "<style scoped>\n",
              "    .dataframe tbody tr th:only-of-type {\n",
              "        vertical-align: middle;\n",
              "    }\n",
              "\n",
              "    .dataframe tbody tr th {\n",
              "        vertical-align: top;\n",
              "    }\n",
              "\n",
              "    .dataframe thead th {\n",
              "        text-align: right;\n",
              "    }\n",
              "</style>\n",
              "<table border=\"1\" class=\"dataframe\">\n",
              "  <thead>\n",
              "    <tr style=\"text-align: right;\">\n",
              "      <th></th>\n",
              "      <th>area</th>\n",
              "      <th>bedrooms</th>\n",
              "      <th>price</th>\n",
              "    </tr>\n",
              "  </thead>\n",
              "  <tbody>\n",
              "    <tr>\n",
              "      <th>7</th>\n",
              "      <td>3300</td>\n",
              "      <td>4</td>\n",
              "      <td>155.0</td>\n",
              "    </tr>\n",
              "    <tr>\n",
              "      <th>8</th>\n",
              "      <td>1310</td>\n",
              "      <td>3</td>\n",
              "      <td>50.0</td>\n",
              "    </tr>\n",
              "    <tr>\n",
              "      <th>13</th>\n",
              "      <td>1100</td>\n",
              "      <td>2</td>\n",
              "      <td>40.0</td>\n",
              "    </tr>\n",
              "    <tr>\n",
              "      <th>12</th>\n",
              "      <td>1000</td>\n",
              "      <td>2</td>\n",
              "      <td>38.0</td>\n",
              "    </tr>\n",
              "    <tr>\n",
              "      <th>3</th>\n",
              "      <td>1521</td>\n",
              "      <td>3</td>\n",
              "      <td>75.0</td>\n",
              "    </tr>\n",
              "  </tbody>\n",
              "</table>\n",
              "</div>\n",
              "      <button class=\"colab-df-convert\" onclick=\"convertToInteractive('df-834c4692-71fc-46e6-a995-bb2d2f1f6940')\"\n",
              "              title=\"Convert this dataframe to an interactive table.\"\n",
              "              style=\"display:none;\">\n",
              "        \n",
              "  <svg xmlns=\"http://www.w3.org/2000/svg\" height=\"24px\"viewBox=\"0 0 24 24\"\n",
              "       width=\"24px\">\n",
              "    <path d=\"M0 0h24v24H0V0z\" fill=\"none\"/>\n",
              "    <path d=\"M18.56 5.44l.94 2.06.94-2.06 2.06-.94-2.06-.94-.94-2.06-.94 2.06-2.06.94zm-11 1L8.5 8.5l.94-2.06 2.06-.94-2.06-.94L8.5 2.5l-.94 2.06-2.06.94zm10 10l.94 2.06.94-2.06 2.06-.94-2.06-.94-.94-2.06-.94 2.06-2.06.94z\"/><path d=\"M17.41 7.96l-1.37-1.37c-.4-.4-.92-.59-1.43-.59-.52 0-1.04.2-1.43.59L10.3 9.45l-7.72 7.72c-.78.78-.78 2.05 0 2.83L4 21.41c.39.39.9.59 1.41.59.51 0 1.02-.2 1.41-.59l7.78-7.78 2.81-2.81c.8-.78.8-2.07 0-2.86zM5.41 20L4 18.59l7.72-7.72 1.47 1.35L5.41 20z\"/>\n",
              "  </svg>\n",
              "      </button>\n",
              "      \n",
              "  <style>\n",
              "    .colab-df-container {\n",
              "      display:flex;\n",
              "      flex-wrap:wrap;\n",
              "      gap: 12px;\n",
              "    }\n",
              "\n",
              "    .colab-df-convert {\n",
              "      background-color: #E8F0FE;\n",
              "      border: none;\n",
              "      border-radius: 50%;\n",
              "      cursor: pointer;\n",
              "      display: none;\n",
              "      fill: #1967D2;\n",
              "      height: 32px;\n",
              "      padding: 0 0 0 0;\n",
              "      width: 32px;\n",
              "    }\n",
              "\n",
              "    .colab-df-convert:hover {\n",
              "      background-color: #E2EBFA;\n",
              "      box-shadow: 0px 1px 2px rgba(60, 64, 67, 0.3), 0px 1px 3px 1px rgba(60, 64, 67, 0.15);\n",
              "      fill: #174EA6;\n",
              "    }\n",
              "\n",
              "    [theme=dark] .colab-df-convert {\n",
              "      background-color: #3B4455;\n",
              "      fill: #D2E3FC;\n",
              "    }\n",
              "\n",
              "    [theme=dark] .colab-df-convert:hover {\n",
              "      background-color: #434B5C;\n",
              "      box-shadow: 0px 1px 3px 1px rgba(0, 0, 0, 0.15);\n",
              "      filter: drop-shadow(0px 1px 2px rgba(0, 0, 0, 0.3));\n",
              "      fill: #FFFFFF;\n",
              "    }\n",
              "  </style>\n",
              "\n",
              "      <script>\n",
              "        const buttonEl =\n",
              "          document.querySelector('#df-834c4692-71fc-46e6-a995-bb2d2f1f6940 button.colab-df-convert');\n",
              "        buttonEl.style.display =\n",
              "          google.colab.kernel.accessAllowed ? 'block' : 'none';\n",
              "\n",
              "        async function convertToInteractive(key) {\n",
              "          const element = document.querySelector('#df-834c4692-71fc-46e6-a995-bb2d2f1f6940');\n",
              "          const dataTable =\n",
              "            await google.colab.kernel.invokeFunction('convertToInteractive',\n",
              "                                                     [key], {});\n",
              "          if (!dataTable) return;\n",
              "\n",
              "          const docLinkHtml = 'Like what you see? Visit the ' +\n",
              "            '<a target=\"_blank\" href=https://colab.research.google.com/notebooks/data_table.ipynb>data table notebook</a>'\n",
              "            + ' to learn more about interactive tables.';\n",
              "          element.innerHTML = '';\n",
              "          dataTable['output_type'] = 'display_data';\n",
              "          await google.colab.output.renderOutput(dataTable, element);\n",
              "          const docLink = document.createElement('div');\n",
              "          docLink.innerHTML = docLinkHtml;\n",
              "          element.appendChild(docLink);\n",
              "        }\n",
              "      </script>\n",
              "    </div>\n",
              "  </div>\n",
              "  "
            ]
          },
          "metadata": {},
          "execution_count": 2
        }
      ],
      "source": [
        "df = pd.read_csv(\"14_homeprices_banglore.csv\")\n",
        "df.sample(5)"
      ]
    },
    {
      "cell_type": "markdown",
      "metadata": {
        "id": "zzSyRbmKPQLX"
      },
      "source": [
        "##### Preprocessing/Scaling: Since our columns are on different sacle it is important to perform scaling on them"
      ]
    },
    {
      "cell_type": "code",
      "execution_count": null,
      "metadata": {
        "colab": {
          "base_uri": "https://localhost:8080/"
        },
        "id": "gRxKYCC7PQLY",
        "outputId": "e33de01f-8f5e-4ea6-efd5-eb109bcf0739"
      },
      "outputs": [
        {
          "output_type": "execute_result",
          "data": {
            "text/plain": [
              "array([[0.08827586, 0.25      ],\n",
              "       [0.62068966, 0.75      ],\n",
              "       [0.22068966, 0.5       ],\n",
              "       [0.24862069, 0.5       ],\n",
              "       [0.13793103, 0.25      ],\n",
              "       [0.12758621, 0.25      ],\n",
              "       [0.6662069 , 0.75      ],\n",
              "       [0.86206897, 0.75      ],\n",
              "       [0.17586207, 0.5       ],\n",
              "       [1.        , 1.        ],\n",
              "       [0.34482759, 0.5       ],\n",
              "       [0.68448276, 0.75      ],\n",
              "       [0.06896552, 0.25      ],\n",
              "       [0.10344828, 0.25      ],\n",
              "       [0.5       , 0.5       ],\n",
              "       [0.12931034, 0.25      ],\n",
              "       [0.13103448, 0.5       ],\n",
              "       [0.25517241, 0.5       ],\n",
              "       [0.67931034, 0.5       ],\n",
              "       [0.        , 0.        ]])"
            ]
          },
          "metadata": {},
          "execution_count": 6
        }
      ],
      "source": [
        "from sklearn.preprocessing import MinMaxScaler\n",
        "sx = MinMaxScaler()\n",
        "sy = MinMaxScaler()\n",
        "\n",
        "scaled_x = sx.fit_transform(df.drop(\"price\", axis=1))\n",
        "scaled_y = sy.fit_transform(df[\"price\"].values.reshape(df.shape[0],1))\n",
        "\n",
        "scaled_x"
      ]
    },
    {
      "cell_type": "code",
      "execution_count": null,
      "metadata": {
        "colab": {
          "base_uri": "https://localhost:8080/"
        },
        "id": "odLXBMipPQLZ",
        "outputId": "f92c9be0-22ef-4645-afdf-2060e5d138dd"
      },
      "outputs": [
        {
          "output_type": "execute_result",
          "data": {
            "text/plain": [
              "array([[0.05237037],\n",
              "       [0.65185185],\n",
              "       [0.22222222],\n",
              "       [0.31851852],\n",
              "       [0.14074074],\n",
              "       [0.04444444],\n",
              "       [0.76296296],\n",
              "       [0.91111111],\n",
              "       [0.13333333],\n",
              "       [1.        ],\n",
              "       [0.37037037],\n",
              "       [0.8       ],\n",
              "       [0.04444444],\n",
              "       [0.05925926],\n",
              "       [0.51111111],\n",
              "       [0.07407407],\n",
              "       [0.11851852],\n",
              "       [0.20740741],\n",
              "       [0.51851852],\n",
              "       [0.        ]])"
            ]
          },
          "metadata": {},
          "execution_count": 7
        }
      ],
      "source": [
        "scaled_y"
      ]
    },
    {
      "cell_type": "markdown",
      "metadata": {
        "id": "UYeUpERMPQLa"
      },
      "source": [
        "##### We should convert target column (i.e. price) into one dimensional array. It has become 2D due to scaling that we did above but now we should change to 1D"
      ]
    },
    {
      "cell_type": "code",
      "source": [
        "scaled_y.shape"
      ],
      "metadata": {
        "colab": {
          "base_uri": "https://localhost:8080/"
        },
        "id": "z8fAv7HoSjEV",
        "outputId": "69dae67e-82e4-42fc-f82d-7246f94e908e"
      },
      "execution_count": null,
      "outputs": [
        {
          "output_type": "execute_result",
          "data": {
            "text/plain": [
              "(20, 1)"
            ]
          },
          "metadata": {},
          "execution_count": 10
        }
      ]
    },
    {
      "cell_type": "code",
      "execution_count": null,
      "metadata": {
        "scrolled": true,
        "colab": {
          "base_uri": "https://localhost:8080/"
        },
        "id": "31aRSIAdPQLb",
        "outputId": "5976504b-9543-4c24-edc6-b39a4ffb6c76"
      },
      "outputs": [
        {
          "output_type": "execute_result",
          "data": {
            "text/plain": [
              "array([0.05237037, 0.65185185, 0.22222222, 0.31851852, 0.14074074,\n",
              "       0.04444444, 0.76296296, 0.91111111, 0.13333333, 1.        ,\n",
              "       0.37037037, 0.8       , 0.04444444, 0.05925926, 0.51111111,\n",
              "       0.07407407, 0.11851852, 0.20740741, 0.51851852, 0.        ])"
            ]
          },
          "metadata": {},
          "execution_count": 11
        }
      ],
      "source": [
        "scaled_y.reshape(20,)"
      ]
    },
    {
      "cell_type": "markdown",
      "metadata": {
        "id": "7NS7lvaWPQLc"
      },
      "source": [
        "##### Gradient descent allows you to find weights (w1,w2,w3) and bias in following linear equation for housing price prediction\n",
        "\n",
        "![14_hp.jpg](data:image/jpeg;base64,/9j/4AAQSkZJRgABAQEAYABgAAD/4RCmRXhpZgAATU0AKgAAAAgABQESAAMAAAABAAEAAAE7AAIAAAANAAAIVodpAAQAAAABAAAIZJydAAEAAAAaAAAQhOocAAcAAAgMAAAASgAAAAAc6gAAAAgAAAAAAAAAAAAAAAAAAAAAAAAAAAAAAAAAAAAAAAAAAAAAAAAAAAAAAAAAAAAAAAAAAAAAAAAAAAAAAAAAAAAAAAAAAAAAAAAAAAAAAAAAAAAAAAAAAAAAAAAAAAAAAAAAAAAAAAAAAAAAAAAAAAAAAAAAAAAAAAAAAAAAAAAAAAAAAAAAAAAAAAAAAAAAAAAAAAAAAAAAAAAAAAAAAAAAAAAAAAAAAAAAAAAAAAAAAAAAAAAAAAAAAAAAAAAAAAAAAAAAAAAAAAAAAAAAAAAAAAAAAAAAAAAAAAAAAAAAAAAAAAAAAAAAAAAAAAAAAAAAAAAAAAAAAAAAAAAAAAAAAAAAAAAAAAAAAAAAAAAAAAAAAAAAAAAAAAAAAAAAAAAAAAAAAAAAAAAAAAAAAAAAAAAAAAAAAAAAAAAAAAAAAAAAAAAAAAAAAAAAAAAAAAAAAAAAAAAAAAAAAAAAAAAAAAAAAAAAAAAAAAAAAAAAAAAAAAAAAAAAAAAAAAAAAAAAAAAAAAAAAAAAAAAAAAAAAAAAAAAAAAAAAAAAAAAAAAAAAAAAAAAAAAAAAAAAAAAAAAAAAAAAAAAAAAAAAAAAAAAAAAAAAAAAAAAAAAAAAAAAAAAAAAAAAAAAAAAAAAAAAAAAAAAAAAAAAAAAAAAAAAAAAAAAAAAAAAAAAAAAAAAAAAAAAAAAAAAAAAAAAAAAAAAAAAAAAAAAAAAAAAAAAAAAAAAAAAAAAAAAAAAAAAAAAAAAAAAAAAAAAAAAAAAAAAAAAAAAAAAAAAAAAAAAAAAAAAAAAAAAAAAAAAAAAAAAAAAAAAAAAAAAAAAAAAAAAAAAAAAAAAAAAAAAAAAAAAAAAAAAAAAAAAAAAAAAAAAAAAAAAAAAAAAAAAAAAAAAAAAAAAAAAAAAAAAAAAAAAAAAAAAAAAAAAAAAAAAAAAAAAAAAAAAAAAAAAAAAAAAAAAAAAAAAAAAAAAAAAAAAAAAAAAAAAAAAAAAAAAAAAAAAAAAAAAAAAAAAAAAAAAAAAAAAAAAAAAAAAAAAAAAAAAAAAAAAAAAAAAAAAAAAAAAAAAAAAAAAAAAAAAAAAAAAAAAAAAAAAAAAAAAAAAAAAAAAAAAAAAAAAAAAAAAAAAAAAAAAAAAAAAAAAAAAAAAAAAAAAAAAAAAAAAAAAAAAAAAAAAAAAAAAAAAAAAAAAAAAAAAAAAAAAAAAAAAAAAAAAAAAAAAAAAAAAAAAAAAAAAAAAAAAAAAAAAAAAAAAAAAAAAAAAAAAAAAAAAAAAAAAAAAAAAAAAAAAAAAAAAAAAAAAAAAAAAAAAAAAAAAAAAAAAAAAAAAAAAAAAAAAAAAAAAAAAAAAAAAAAAAAAAAAAAAAAAAAAAAAAAAAAAAAAAAAAAAAAAAAAAAAAAAAAAAAAAAAAAAAAAAAAAAAAAAAAAAAAAAAAAAAAAAAAAAAAAAAAAAAAAAAAAAAAAAAAAAAAAAAAAAAAAAAAAAAAAAAAAAAAAAAAAAAAAAAAAAAAAAAAAAAAAAAAAAAAAAAAAAAAAAAAAAAAAAAAAAAAAAAAAAAAAAAAAAAAAAAAAAAAAAAAAAAAAAAAAAAAAAAAAAAAAAAAAAAAAAAAAAAAAAAAAAAAAAAAAAAAAAAAAAAAAAAAAAAAAAAAAAAAAAAAAAAAAAAAAAAAAAAAAAAAAAAAAAAAAAAAAAAAAAAAAAAAAAAAAAAAAAAAAAAAAAAAAAAAAAAAAAAAAAAAAAAAAAAAAAAAAAAAAAAAAAAAAAAAAAAAAAAAAAAAAAAAAAAAAAAAAAAAAAAAAAAAAAAAAAAAAAAAAAAAAAAAAAAAAAAAAAAAAAAAAAAAAAAAAAAAAAAAAAAAAAAAAAAAAAAAAAAAAAAAAAAAAAAAAAAAAAAAAAAAAAAAAAAAAAAAAAAAAAAAAAAAAAAAAAAAAAAAAAAAAAAAAAAAAAAAAAAAAAAAAAAAAAAAAAAAAAAAAAAAAAAAAAAAAAAAAAAAAAAAAAAAAAAAAAAAAAAAAAAAAAAAAAAAAAAAAAAAAAAAAAAAAAAAAAAAAAAAAAAAAAAAAAAAAAAAAAAAAAAAAAAAAAAAAAAAAAAAAAAAAAAAAAAAAAAAAAAAAAAAAAAAAAAAAAAAAAAAAAAAAAAAAAAAAAAAAAAAAAAAAAAAAAAAAAAAAAAAAAAAAAAAAAAAAAAAAAAAAAAAAAAAAAAAAAAAAAAAAAAAAAAAAAAAAAAAAAAAAAAAAAAAAAAAAAAAAAAAAAAAAAAAAAAAAAAAAAAAAAAAAAAAAAAAAAAAAAAAAAAAAAAAAAAAAAAAAAAAAAAAAAAAAAAAAAAAAAAAAAAAAAAAAAAAAAAAAAAAAAAAAAAAAAAAAAAAAAAAAAAAAAAAAAAAAAAAAAAAAAAAAAAAAAAAAAAAAAAAAAAAAAAAAAAAAAAAAAAAAAAAAAAAAAAAAAAAAAAAAAAAAAAAAAAAAAAAAAAAAAAAAAAAAAAAAAAAAAAAAAAAAAAAAAAAAAAAAAAAAAAAAAAAAAAAAAAAAAAAAAAAAAAAAAAAAAAAAAAAAAAAAAAAAAAAAAAAAAAAAAAAAAAAAAAAAAAAAAAAAAAAAAAAAAAAAAAAAAAAAAAAAAAAAAAAAAAAAAAAAAAAAAAAAAAAAAAAAAAAAAAAAAAAAAAAAAAAAAAAAAAAAAAAAAAAAAAAAAAAAAAAAAAAAAAAAAAAAAAAAAAAAAAAAAAAAAAAAAAAERoYXZhbCBQYXRlbAAAAAHqHAAHAAAIDAAACHYAAAAAHOoAAAAIAAAAAAAAAAAAAAAAAAAAAAAAAAAAAAAAAAAAAAAAAAAAAAAAAAAAAAAAAAAAAAAAAAAAAAAAAAAAAAAAAAAAAAAAAAAAAAAAAAAAAAAAAAAAAAAAAAAAAAAAAAAAAAAAAAAAAAAAAAAAAAAAAAAAAAAAAAAAAAAAAAAAAAAAAAAAAAAAAAAAAAAAAAAAAAAAAAAAAAAAAAAAAAAAAAAAAAAAAAAAAAAAAAAAAAAAAAAAAAAAAAAAAAAAAAAAAAAAAAAAAAAAAAAAAAAAAAAAAAAAAAAAAAAAAAAAAAAAAAAAAAAAAAAAAAAAAAAAAAAAAAAAAAAAAAAAAAAAAAAAAAAAAAAAAAAAAAAAAAAAAAAAAAAAAAAAAAAAAAAAAAAAAAAAAAAAAAAAAAAAAAAAAAAAAAAAAAAAAAAAAAAAAAAAAAAAAAAAAAAAAAAAAAAAAAAAAAAAAAAAAAAAAAAAAAAAAAAAAAAAAAAAAAAAAAAAAAAAAAAAAAAAAAAAAAAAAAAAAAAAAAAAAAAAAAAAAAAAAAAAAAAAAAAAAAAAAAAAAAAAAAAAAAAAAAAAAAAAAAAAAAAAAAAAAAAAAAAAAAAAAAAAAAAAAAAAAAAAAAAAAAAAAAAAAAAAAAAAAAAAAAAAAAAAAAAAAAAAAAAAAAAAAAAAAAAAAAAAAAAAAAAAAAAAAAAAAAAAAAAAAAAAAAAAAAAAAAAAAAAAAAAAAAAAAAAAAAAAAAAAAAAAAAAAAAAAAAAAAAAAAAAAAAAAAAAAAAAAAAAAAAAAAAAAAAAAAAAAAAAAAAAAAAAAAAAAAAAAAAAAAAAAAAAAAAAAAAAAAAAAAAAAAAAAAAAAAAAAAAAAAAAAAAAAAAAAAAAAAAAAAAAAAAAAAAAAAAAAAAAAAAAAAAAAAAAAAAAAAAAAAAAAAAAAAAAAAAAAAAAAAAAAAAAAAAAAAAAAAAAAAAAAAAAAAAAAAAAAAAAAAAAAAAAAAAAAAAAAAAAAAAAAAAAAAAAAAAAAAAAAAAAAAAAAAAAAAAAAAAAAAAAAAAAAAAAAAAAAAAAAAAAAAAAAAAAAAAAAAAAAAAAAAAAAAAAAAAAAAAAAAAAAAAAAAAAAAAAAAAAAAAAAAAAAAAAAAAAAAAAAAAAAAAAAAAAAAAAAAAAAAAAAAAAAAAAAAAAAAAAAAAAAAAAAAAAAAAAAAAAAAAAAAAAAAAAAAAAAAAAAAAAAAAAAAAAAAAAAAAAAAAAAAAAAAAAAAAAAAAAAAAAAAAAAAAAAAAAAAAAAAAAAAAAAAAAAAAAAAAAAAAAAAAAAAAAAAAAAAAAAAAAAAAAAAAAAAAAAAAAAAAAAAAAAAAAAAAAAAAAAAAAAAAAAAAAAAAAAAAAAAAAAAAAAAAAAAAAAAAAAAAAAAAAAAAAAAAAAAAAAAAAAAAAAAAAAAAAAAAAAAAAAAAAAAAAAAAAAAAAAAAAAAAAAAAAAAAAAAAAAAAAAAAAAAAAAAAAAAAAAAAAAAAAAAAAAAAAAAAAAAAAAAAAAAAAAAAAAAAAAAAAAAAAAAAAAAAAAAAAAAAAAAAAAAAAAAAAAAAAAAAAAAAAAAAAAAAAAAAAAAAAAAAAAAAAAAAAAAAAAAAAAAAAAAAAAAAAAAAAAAAAAAAAAAAAAAAAAAAAAAAAAAAAAAAAAAAAAAAAAAAAAAAAAAAAAAAAAAAAAAAAAAAAAAAAAAAAAAAAAAAAAAAAAAAAAAAAAAAAAAAAAAAAAAAAAAAAAAAAAAAAAAAAAAAAAAAAAAAAAAAAAAAAAAAAAAAAAAAAAAAAAAAAAAAAAAAAAAAAAAAAAAAAAAAAAAAAAAAAAAAAAAAAAAAAAAAAAAAAAAAAAAAAAAAAAAAAAAAAAAAAAAAAAAAAAAAAAAAAAAAAAAAAAAAAAAAAAAAAAAAAAAAAAAAAAAAAAAAAAAAAAAAAAAAAAAAAAAAAAAAAAAAAAAAAAAAAAAAAAAAAAAAAAAAAAAAAAAAAAAAAAAAAAAAAAAAAAAAAAAAAAAAAAAAAAAAAAAAAAAAAAAAAAAAAAAAAAAAAAAAAAAAAAAAAAAAAAAAAAAAAAAAAAAAAAAAAAAAAAAAAAAAAAAAAAAAAAAAAAAAAAAAAAAAAAAAAAAAAAAAAAAAAAAAAAAAAAAAAAAAAAAAAAAAAAAAAAAAAAAAAAAAAAAAAAAAAAAAAAAAAAAAAAAAAAAAAAAAAAAAAAAAAAAAAAAAAAAAAAAAAAAAAAAAAAAAAAAAAAAAAAAAAAAAAAAAAAAAAAAAAAAAAAAAAAAAAAAAAAAAAAAAAAAAAAAAAAAAAAAAAAAAAAAAAAAAAAAAAAAAAAAAAAAAAAAAAAAAAAAAAAAAAAAAAAAAAAAAAAAAAAAAAAAAAAAAAAAAAAAAAAAAAAAAAAAAAAAAAAAAAAAAAAAAAAAAAAAAAAAAAAAAAAAAAAAAAAAAAAAAAAAAAAAAAAAAAAAAAAAAAAAAAAAAAAAAAAAAAAAAAAAAAAAAAAAAAAAAAAAAAAAAAAAAAAAAAAAAAAAAAAAAAAAAAAAAAAAAAAAAAAAAAAAAAAAAAAAAAAAAAAAAAAAAAAAAAAAAAAAAAAAAAAAAAAAAAAAAAAAAAAAAAAAAAAAAAAAAAAAAAAAAAAAAAAAAAAAAAAAAAAAAAAAAAAAAAAAAAAAAAAAAAAAAAAAAAAAAAAAAAAAAAAAAAAAAAAAAAAAAAAAAAAAAAAAAAAAAAAAEQAaABhAHYAYQBsACAAUABhAHQAZQBsAAAA/+EKZWh0dHA6Ly9ucy5hZG9iZS5jb20veGFwLzEuMC8APD94cGFja2V0IGJlZ2luPSfvu78nIGlkPSdXNU0wTXBDZWhpSHpyZVN6TlRjemtjOWQnPz4NCjx4OnhtcG1ldGEgeG1sbnM6eD0iYWRvYmU6bnM6bWV0YS8iPjxyZGY6UkRGIHhtbG5zOnJkZj0iaHR0cDovL3d3dy53My5vcmcvMTk5OS8wMi8yMi1yZGYtc3ludGF4LW5zIyI+PHJkZjpEZXNjcmlwdGlvbiByZGY6YWJvdXQ9InV1aWQ6ZmFmNWJkZDUtYmEzZC0xMWRhLWFkMzEtZDMzZDc1MTgyZjFiIiB4bWxuczpkYz0iaHR0cDovL3B1cmwub3JnL2RjL2VsZW1lbnRzLzEuMS8iLz48cmRmOkRlc2NyaXB0aW9uIHJkZjphYm91dD0idXVpZDpmYWY1YmRkNS1iYTNkLTExZGEtYWQzMS1kMzNkNzUxODJmMWIiIHhtbG5zOmRjPSJodHRwOi8vcHVybC5vcmcvZGMvZWxlbWVudHMvMS4xLyI+PGRjOmNyZWF0b3I+PHJkZjpTZXEgeG1sbnM6cmRmPSJodHRwOi8vd3d3LnczLm9yZy8xOTk5LzAyLzIyLXJkZi1zeW50YXgtbnMjIj48cmRmOmxpPkRoYXZhbCBQYXRlbDwvcmRmOmxpPjwvcmRmOlNlcT4NCgkJCTwvZGM6Y3JlYXRvcj48L3JkZjpEZXNjcmlwdGlvbj48L3JkZjpSREY+PC94OnhtcG1ldGE+DQogICAgICAgICAgICAgICAgICAgICAgICAgICAgICAgICAgICAgICAgICAgICAgICAgICAgICAgICAgICAgICAgICAgICAgICAgICAgICAgICAgICAgICAgICAgICAgICAgICAgCiAgICAgICAgICAgICAgICAgICAgICAgICAgICAgICAgICAgICAgICAgICAgICAgICAgICAgICAgICAgICAgICAgICAgICAgICAgICAgICAgICAgICAgICAgICAgICAgICAgICAKICAgICAgICAgICAgICAgICAgICAgICAgICAgICAgICAgICAgICAgICAgICAgICAgICAgICAgICAgICAgICAgICAgICAgICAgICAgICAgICAgICAgICAgICAgICAgICAgICAgIAogICAgICAgICAgICAgICAgICAgICAgICAgICAgICAgICAgICAgICAgICAgICAgICAgICAgICAgICAgICAgICAgICAgICAgICAgICAgICAgICAgICAgICAgICAgICAgICAgICAgCiAgICAgICAgICAgICAgICAgICAgICAgICAgICAgICAgICAgICAgICAgICAgICAgICAgICAgICAgICAgICAgICAgICAgICAgICAgICAgICAgICAgICAgICAgICAgICAgICAgICAKICAgICAgICAgICAgICAgICAgICAgICAgICAgICAgICAgICAgICAgICAgICAgICAgICAgICAgICAgICAgICAgICAgICAgICAgICAgICAgICAgICAgICAgICAgICAgICAgICAgIAogICAgICAgICAgICAgICAgICAgICAgICAgICAgICAgICAgICAgICAgICAgICAgICAgICAgICAgICAgICAgICAgICAgICAgICAgICAgICAgICAgICAgICAgICAgICAgICAgICAgCiAgICAgICAgICAgICAgICAgICAgICAgICAgICAgICAgICAgICAgICAgICAgICAgICAgICAgICAgICAgICAgICAgICAgICAgICAgICAgICAgICAgICAgICAgICAgICAgICAgICAKICAgICAgICAgICAgICAgICAgICAgICAgICAgICAgICAgICAgICAgICAgICAgICAgICAgICAgICAgICAgICAgICAgICAgICAgICAgICAgICAgICAgICAgICAgICAgICAgICAgIAogICAgICAgICAgICAgICAgICAgICAgICAgICAgICAgICAgICAgICAgICAgICAgICAgICAgICAgICAgICAgICAgICAgICAgICAgICAgICAgICAgICAgICAgICAgICAgICAgICAgCiAgICAgICAgICAgICAgICAgICAgICAgICAgICAgICAgICAgICAgICAgICAgICAgICAgICAgICAgICAgICAgICAgICAgICAgICAgICAgICAgICAgICAgICAgICAgICAgICAgICAKICAgICAgICAgICAgICAgICAgICAgICAgICAgICAgICAgICAgICAgICAgICAgICAgICAgICAgICAgICAgICAgICAgICAgICAgICAgICAgICAgICAgICAgICAgICAgICAgICAgIAogICAgICAgICAgICAgICAgICAgICAgICAgICAgICAgICAgICAgICAgICAgICAgICAgICAgICAgICAgICAgICAgICAgICAgICAgICAgICAgICAgICAgICAgICAgICAgICAgICAgCiAgICAgICAgICAgICAgICAgICAgICAgICAgICAgICAgICAgICAgICAgICAgICAgICAgICAgICAgICAgICAgICAgICAgICAgICAgICAgICAgICAgICAgICAgICAgICAgICAgICAKICAgICAgICAgICAgICAgICAgICAgICAgICAgICAgICAgICAgICAgICAgICAgICAgICAgICAgICAgICAgICAgICAgICAgICAgICAgICAgICAgICAgICAgICAgICAgICAgICAgIAogICAgICAgICAgICAgICAgICAgICAgICAgICAgICAgICAgICAgICAgICAgICAgICAgICAgICAgICAgICAgICAgICAgICAgICAgICAgICAgICAgICAgICAgICAgICAgICAgICAgCiAgICAgICAgICAgICAgICAgICAgICAgICAgICAgICAgICAgICAgICAgICAgICAgICAgICAgICAgICAgICAgICAgICAgICAgICAgICAgICAgICAgICAgICAgICAgICAgICAgICAKICAgICAgICAgICAgICAgICAgICAgICAgICAgICAgICAgICAgICAgICAgICAgICAgICAgICAgICAgICAgICAgICAgICAgICAgICAgICAgICAgICAgICAgICAgICAgICAgICAgIAogICAgICAgICAgICAgICAgICAgICAgICAgICAgICAgICAgICAgICAgICAgICAgICAgICAgICAgICAgICAgICAgICAgICAgICAgICAgICAgICAgICAgICAgICAgICAgICAgICAgCiAgICAgICAgICAgICAgICAgICAgICAgICAgICAgICAgICAgICAgICAgICAgICAgICAgICAgICAgICAgICAgICAgICAgICAgICAgICAgICAgICAgICAgICAgICAgICAgICAgICAKICAgICAgICAgICAgICAgICAgICAgICAgICAgIDw/eHBhY2tldCBlbmQ9J3cnPz7/2wBDAAIBAQIBAQICAgICAgICAwUDAwMDAwYEBAMFBwYHBwcGBwcICQsJCAgKCAcHCg0KCgsMDAwMBwkODw0MDgsMDAz/2wBDAQICAgMDAwYDAwYMCAcIDAwMDAwMDAwMDAwMDAwMDAwMDAwMDAwMDAwMDAwMDAwMDAwMDAwMDAwMDAwMDAwMDAz/wAARCACBAuMDASIAAhEBAxEB/8QAHwAAAQUBAQEBAQEAAAAAAAAAAAECAwQFBgcICQoL/8QAtRAAAgEDAwIEAwUFBAQAAAF9AQIDAAQRBRIhMUEGE1FhByJxFDKBkaEII0KxwRVS0fAkM2JyggkKFhcYGRolJicoKSo0NTY3ODk6Q0RFRkdISUpTVFVWV1hZWmNkZWZnaGlqc3R1dnd4eXqDhIWGh4iJipKTlJWWl5iZmqKjpKWmp6ipqrKztLW2t7i5usLDxMXGx8jJytLT1NXW19jZ2uHi4+Tl5ufo6erx8vP09fb3+Pn6/8QAHwEAAwEBAQEBAQEBAQAAAAAAAAECAwQFBgcICQoL/8QAtREAAgECBAQDBAcFBAQAAQJ3AAECAxEEBSExBhJBUQdhcRMiMoEIFEKRobHBCSMzUvAVYnLRChYkNOEl8RcYGRomJygpKjU2Nzg5OkNERUZHSElKU1RVVldYWVpjZGVmZ2hpanN0dXZ3eHl6goOEhYaHiImKkpOUlZaXmJmaoqOkpaanqKmqsrO0tba3uLm6wsPExcbHyMnK0tPU1dbX2Nna4uPk5ebn6Onq8vP09fb3+Pn6/9oADAMBAAIRAxEAPwD9/KKKKACiiigAooooAKKKKACiiigAooooAKKKKACiiigAooooAKKKKACiiigAooooAKKKKACiiigAooooAKKKKACiiigAooooAKKKKACiiigAooooAKKKKACiiigAooooAKKKKACiiigAooooAKKKKACiiigAooooAKKKKACiiigAooooAKKKKACiiigAooooAKKKKACiiigAooooAKKKKACiiigAooooAKKKKACiiigAooooAKKKKACiiigAooooAKKKKACiiigAooooAKKKKACiiigAooooAKKKKACiiigAooooAKKKKACiiigAooooAKKKKACiiigAooooAKKKKACiiigAooooAKKKKACiiigAooooAKKKKACiiigAooooAKKKKACiiigAooooAKKKKACiiigAooooAKKKKACiiigAooooAKKKKACiiigAooooAKKKKACiiigAooooAKKKKACiiigAooooAKKKKACiiigAooooAKKKKACiiigAooooAKKKKACiiigAooooAKKKKACiiigAooooAKKKKACiiigAoozRmgAoozRuoAKKM0ZoAKKKKACijNGaACiiigAooooAKKKKACiiigAooooAKKKKACiiigAoozRmgAoozRmgAoozRmgAoozRmgAooooAKKM0UAFFFFABRRRQAUUUUAFFFFABRRRQAUUUUAFFFFABRRRQAUUUUAFFFFABRRRQAUUUUAFFFFABRRRQAUUUUAFFFFABRRRQAUUUUAFFFFABRRRQAUUUUAFFQzy+Rbs+1n2L9xe9flr+0D/wW3+NH7KX7WvwVk+KHwv8F/Dj4D/GS81K3tLbWL6eTxvpNrZLEXvb2ONzBAXE8cgtUSZwMxu6SYoA/VCivyv/AG9/+CvX7U37D3gnw18dNa+CPgHTP2ftV1u30290O/1W6fx7BazeYYbqdE2WlpJJGg/cfv3jeREcg52fRn/BQn9s74xfC74WXWpfAX4eaH4mks/CFz46vPFni64ng8MafYwRtIltGkGJ7q+nRDsgXy0TKO8nOCAfYlFfl7+zR/wWV+Ov/BQH9gbT/GnwH+E/hHXfiZpmh3GoeLJNZvrqLw5pl9DJOkem2iR757q9uI4Y5/I8xEhjuYBJPvcV7VbftafH7TP+CM1x8bvF2m+Bfh18Y9D8I6h4u1nSNb8OaiNLs0thPOlpJZ/ao7uCaSCOFDmSQxyF/wB2/CUAeifsO/8ABS3wP+3/APEb4uaB4H0nxhDH8G/EJ8N6nquqWkEen6tdeZOjfYXSeR3jHkb8yJH8k0XHJCfSlfLP/BHX9rb4ift2f8E+fA/xa+JuleHND8ReNPtd1HZaHazQWqWiXUkED7Zpp3zJHGH+/wDx9BXLR/8ABRXxZ+1X+1n42+EP7PGk+Gbu3+FsiWvjXx/4mjnutF0jUHPyWFraQPHJfTptk8wefAkfl/foA+z6K+Sv2GPjf+0b42/as+NngP40eFfCtp4Y+GsunR+GPF+g+HtR0ez8Xi7geZ3gS6urhH8hRGknlyP5cj7M1laL/wAFCvF/7XX7TvjT4X/s76R4ZutF+GM/9meMPiN4kjnu9E0zVM/8g6ys4JIZL6dMfvP38CJ/f+4HAPsqivhn/gnL/wAFGPiD+0F+27+0F8AviTpvg3UNb+Cc9iU8T+E7S6sdO1RLobxG9rPPO8EyD0nflJP7mT9zUAFFfLP7aP8AwU0/4Yy+Kun+Fv8Ahn79pz4rfbtLj1f+1vh14G/t3TIN888f2aSfz49k48neY8H5JIz/ABV5L/w/0b/oyv8Ab+/8ND/910AfoBQeRXwb4O/4Llf8Jd4p0zSl/Y//AG6dN/tS7hs/tl/8Kvs9paF32eZM5uvkjTOXfsAa+8icUARkKPy/OhAEi74r5z/4KafHH4hfsx/soa98QPh7/wAItNqXhNft13aa5p893FeWowHCGGaEo43F8/ODtIxTv2ef2xZfHH/BOrSfjb4ojsbGZvCr6/qYtkeOCJoo3kkVA7O2wbTjLmud4qHtfYns0shxdTBRx0F7kp+z/wC37Xt9x9DFTKnWm7Gd/lK9CWx618kf8Ekf25PF37f/AOyPeeNPEUHh/S/Elvqt3ppXT7OX7ChjRHR9jzO7jEoz86556VQ/4Jc/tifFr9rjxb8Xo/HVp4Ll8N+B/EMvhrR9U0CxubRNYlhkkSaTE083ybPIYYP/AC09qmGOpS5eT7R04vhXG4Z4qNblX1dpT1/mfL7vf5F79v7/AILFfCr9gu2uNLvb3/hLvGyoWh8N6XcIJ436j7TMfktk6ff+fGSEevpr4XeMh8RPh5oOutb/AGQa5YwX3kGTzPI82NX27/4vvdRX52/8F3P2ffBv7Pf/AAS41XTfBvh3S/DtpceJ9PuZo7WH5riZ5G3yM/3mkP8AffJr76/Zj2j9n3wPtX/mAWGfY/Zo648PiKssVOjVPWzrK8shw/hsfgYT55znCUpP4uVQatFfD8X97/EegDiiig9K9Y+HIZF+bd8voT6UJ975utfH/wC2t/wVB8P/AAB0H4qeHdEmjsfil4K0eTU9KsfEdjPa6d4h8uJJ3Nq+5PtQjjbDiNwwKk/d5rv/ANnD9vXwb+0F8Sm8D6Tf3GteJtG0tL7W7zSLOabRbO5wge1+1Y2ecC+fLznHXDcVz/XKPPyc2p7dThnM44T6/KjLk72+z7r5v8PvLU+h6KBwK+R/26v+CkVx8Cvjv4D+B3wx8OWfxA+PXxLV7vStIvL2Sz0zQLBDIH1TUZkjd0t02SfJGheTy3Qdq6DxD64or8wf+Cnv/BSr9qT/AIJd+Hfh/wDaNP8Agj8V9Z+LGqnwzocWm6Bqmh/2Tqr+X5IkR9Quvtkb7z0ktX49+PoX/go9+1Z8c/gJ4C1SL4O/DvQdf1jw/wCFr3xhrHijxZPPa+F9OgtY5He0jSD/AEi5vpBG+yHKIi7HeSgD65or8vf2aP8Agsr8df8AgoD+wNp/jT4D/CfwjrvxM0zQ7jUPFkms311F4c0y+hknSPTbRI9891e3EcMc/keYiQx3MAkn3uK+oP2cP2y/E3hL/gmlovxv/acsdP8Ahjrlpok2u+LLKPTrrT49Hj8+TyIBazPJOk3lmFDGSXeRgAOQgAPqKivgJ/23v2jPi5+w54s/aI8J6H8MfhT4N0/w5eeLfD2i+ONNvtZ1fxBp0NtJcRz3T2t7ax6f58a70QfatiOma9i/4Jz/ALfsP7Y//BNfwj+0B4usLXwHa6xpN9qWtRTzf6JpkdlcXEE8+9sfuMWrzAnojjrQB9N0V8M/spftq/Gz/gpr4d1L4gfBux+H/wANfg2L2ew8M63400S+13VPGaQSOkl2lnBdWKWVv5iFE3yTSEo+UTpWL/wR9/4KgfFf/goh8cfjl4f8aeC/B/hfRfgrf2/hiS60ia6mOqawk93HdsjzdINsCEIU3oJB8754AP0AooooA8p1f9sn4b6D+1npnwNuvERh+KmraAfFNnoh0+5Bn03zJITP5/l/Z/8AWQyDZ5nmfJ9zvXqx6V+Ynxd/5W1fhf8A9m+zf+nXU6/Ts9KAIQuCWoGAu3sOtOVl2/hXw3+0T+3V8UP2fv8AgqR8MPhbdQeB9Q+HPxOctbXMWmXS6taYjdWR3Nz5LnzBH84QYV/ucZrOtiIUo81Q9PJ8lxGZVZUcKryjGU/lFc0vwPuJpPmC+3J9KXGC+0855r4m/wCCuv8AwUk1T9gjTvhnb+HbfRb/AFbxrr3kXUOoxST+Xp8flieSNUlj/eB5oQm87OTntXZ/8FWv2qPHH7Gn7J914/8AAj+FLjU9P1C0t307WtPuLr+0lnnjhCQ+TPCUdN5fnflIzxWEsdRjzf3dzuw/CeY1Y4SUVpipSjDz5Zcr9PeOt/bs/bp8O/sG/DjRtb17Sdf1+88RapHo2k6XpFr59zf3TozqgBIxkIec14r8d/8Agp/8Wf2VfANv478ffs16hpfgF5YU1C/0/wAY22o6hpaybFTzbZYdgPmOU/1+zdj5/nFfR3w18BzfF/4UfD/VPiv4V8K3XjbSba01iWI6cJrfRtUKB3e287e8To5ID7t/HWvnn/guj8brXwn+xvffDfS7Rte8f/Fq4h8P+HtGt4/MnunaVDJJs/uomef7zp61zY6dWNGVbn5T3eGcPl1fHYfKquE9rKU/3k+aXwX1ceWUUuWN5c0ub7j6n+B/xo0P9oD4V+H/ABj4buvtmg+JLFL6zmKlSyOARuU8q3P3T3rtNwLbcHrXiH/BPf8AZ0v/ANlP9jPwH8P9TuIbrVNB04JeyQ48tZ3dppkT/YWR2UewFe4FMc+td1BylSi57nx+bUcPRxtang5c1JTlyP8Au3938Bryqxx7ZoV2Zv8AZboK5P4w/E6D4K/DfWvFV9Y6tqtnoNk95NaaVZPd3lwqDOyGFeXc+gr5Jvv+CxXg9/j9p01r4q8GL8G5fBV34gvtUnSVNVt7+G9gtfsZTeDHL+/TMDw+Znj2pVsTSpfHI6Ms4fzDHxlPB0nO3Zf+S+p9yLjccUKF+auB+APxusf2gfhNpPjLSrLXNN07WUaa3h1awexvEj3unzxScrnbuGeqla71V+f61rGopx5onmVqM6VWVGr8UT8+vB//AAUF+PE3/BdS8/Zk1BvhLrnw7sPDE/jS81HStD1C01ywsm3pa2sjvfyQeck0lqHkEeyRJMhI9+E/QqvxF/YF/aZ8RfFj/gr5+2d49+GPhmw+IHxU8ReIY/AvhmC/vHtdI8P6PpX+jz6lqNyiO8NrI8Nl5ccaPPcOHCJ8kkifVn/BMT/gqX8Vvjp+3n8Xv2Y/j94T8DaD8Vfhbp8OtrfeDZrr+yNTsn+z/wAFyzyfdvbVw+RvEpyieXzRB+h1FfJ37Vf/AAUdu/h3+0/4Z/Z++FPhi1+IHxu8T6e+s3VleXxs9H8IaUj7G1HUZ0R32kn5IY0LyfIPk3x7/LNZ/wCCh3xo/Zy/4Kx/CD9nf4if8Kz8daP8ZNJvtRttT8LaJfaNqGgPAlw/7+Ga9u0mgIhCiQeX/Gf4CCAfoJXg3/BRf4zeOf2cP2J/iL8RPAF94PtfEHw90G98SPD4m0ue/s9QhtbaSd7bbBc27xySbAiSb3wf4Hrjv+Cgf/BRqH9kTxp8Pfhr4Q8O/wDCwPjd8Xb42XhPwst6bSARof3+oX1wEkMFpAm93+R3fY+wYjkeP4b/AODjb46/tMfs3/8ABNC50fxVqnwj8Tad8ZNStvBF1D4X8N6lpV7os8ySXZSOefUJ1vY5I7WaD/UQZ352c7KAPu3/AII+ftY/EH9uX/gnv4B+LHxN0vw7ofiTxsl3diw0S1ngtEtUupYYHCzTTPl440k+/wD8tOlfUNfKb6Z8QP2Iv2L/AIP/AAn+Dnw9Xx14us9GsvCdncajdGz0HQ/slkBJfanMm+RIz5Z+SJHeSRwg65r5c/4J0f8ABbb4yfty/DPxV4K034b+Bdb/AGivCvijUNDvktLy7sfCOlWUHl41S+mfz54Y3keSGOCPzJJ3gcpsRJDGAfqfRXyN/wAEt/2nfjv8X/2ePG3if9p7wb4Z+FuveGfE2o6dDbWNjd6bZ/2ZapGTev8Aa5nMkbyGfZPGfLeOMMM5rkf2W/29fi3/AMFQNO8QeMfgTa+BPAfwh0vUJ9L0LxT420W+1q88ZSwnZJPBp8FzZfZbXf8AJvkmkkJD/u0PQA+56K+Nf+CXv/BS3Uv20/Hnxj+GfjbQ9K8OfFj4C+IX0DxDHpMzyaXqkZe4jhvrXzP3iRyGB8o5cp8nPzjEfxa/4KU698Qf26rv9m74B6DoPiTx94Z03+1vG3iXXXm/sDwTC+zy4HSHEl1dyb0xAkkfX7/ySeWAfZ1FfCEX/BRX4hfsz/8ABSj4f/s5/G5fAfiG3+MGkTX3hLxf4V0260WOO6g8zfaXdjNdXRXfs+SaOf77oCnJ2ecf8FYf+Cun7Q37BtmfHvh34O+EYfg/4f8AGVt4Rv5vFt7PH4g8WO+/fcaXBA4jhtT5bqk87u7k7/I2c0AfptRX5m/8FBP+CrH7RXwi/Zn1r4+fBL4d/C/UfgP4Qmhkm1XxhqN3/bHjCyknjg+3adbQFEgtfMk+SSeTzJE/eJBsKF3eNv8Agrh8eP2lv2LZvjN+zD8MvAUvhfw34XTxHr+sfEG/uo7e8uktPtV9pWlwQeW909od8b3MkkMBkR0TeUfAB+mFFfOP/BKf9tS4/wCCh/7Afw6+MV9osHh/UPGFtc/bLCKXzYYJ7W+ns5Ch67He2Z0zyA/rXjn7P3/BQz4of8FEvj58avDfwYuPhr4E8J/BTxJJ4TuNU8WaJe+IL/X72Mukjx21te2KW0BeNtjvPI7j+BOwB940V8w/8E/Pjh8fPihq3xT0f47eBdA8M3/gPxHHoui6toVre2un+LIPJEhvYI7l3/c4eMfJI4D+Yh+eM5+nqACq81x5Yb5tvl85J2qfTJP9KsVGVAJOOcdfzoA5X4W/Gzwf8bdN1K98GeLPDni2z0bUJNJ1CfR9TivorK8iwZbaVo2YRzIHUsjYZdyg4rrI/wDVr9O9fmL/AMGtcav+zL+0dlVP/GQPiZeR2+y6Zx+gr9PKACiiigD49/a8/wCCjXjD9l39sv4Z/DGP4b6b4i034paillpWqQ+KTDcQqrwLdST2ptD5awiUvkSOHVeCGyg+uFZo9pZjuC/Nxx+X/wBevy8/at+OOjXH/Bc7SdS1WO/1TTfgj4SjktNMsbb7VdanrN8XSG1giX5pJZEuI2UcBfs7uSFRyvufwU/4Kr69rn7Z2n/BH4n/AAl1b4Va/wCI7B9Q8Oy3OswajHqESJI/zmJFSNisUuFV5CDHghSa8jD46PNNze8kl+R+iZvwfWlgcLUwNH3vYupN331buot3fLGzdu59SfGn41+Hv2f/AIYaz4y8YaoujeG9AhN1e3jQySeUhYKuFQF2JJAAUHJIp3wc+MehfHz4aaL4w8L6h/aXh3xFbpfafdNFJbtcwtyreXIFdcjBwwB55FfK/wDwVg/bQvP2XtO8J6FrHwd8I/Fjwf8AEa/g0aOy1fXEgMmoeb5iJLaSWc0bQqVicTB2KuOY1Koz/WAg0P4UfDuPy7fTfDvhrw/pyhY4o47a20y1hT7qqoCJHHGoAC8ADjgV3xxHNWdOLVo7ny2JyiVPLqOJnCTdZvkaa5ZKNk0o735urOijaQhejf3ic1JI5UNnPTt6V8pfC/8Ab28bftP6VqHiP4P/AA0s9d+H9jJLBa+IfEfiU6ONdaJijmyhjtblnTKth5fKDY607/gnD/wUrH/BRSHxhdaf4I1PwrpnhK5ttOM17fLM91dskjXEYCDaBHtjwQzMwkBKoeKccZTlNRRVbhfMqVCriKkNKbSmuZXg5bJq9036H1X94Z+b5gO/NA+XPzc9evSvmPxd+35qHiT9qjXfg38MPCNv4w8WeE9Pi1DXrvVNZOj6XpSy7fLjaVILiV5GVgcRwsF/iZam/Zh/bU8W/Fr9pDxt8L/Gnw1k8FeIfBumW+py3tprS6ppt7DOxWMxSNDC5J2yHHlDmJwcYXJ9bpvSJnU4dx9Ok604pWipNOS5uV7O179V06rufTaHKD+lLTLZt9ujdcjOfWn1ueMFFFFABRRRQAUUUUAFfkh+1xpGl/tt/wDB0f8ABH4f6sttqPh34A+B5/Gd1ZyruzqMj74h/wAAc6bN/wBs6/W+vxV/4JY/s0L/AMFG/wDgpx+15+0vB4+8d+A9X0Lx4fB/hbWvDNzZecbG1geCRJo721ureZJII7A7Hj+TZ9MAHqv/AAdCahfftBfB/wCDP7MPhFo7v4gfHTx3ax2tosfmPa6dao7z3Uij7kcckkD7+Pkjl/uNXsP/AAX6+LFv+x3/AMERfipb6XJJC114etvBOmoWw8iXbx2L/iLd5n/4BXuX7P8A/wAE9fBfwJ+Muq/E281LxT8Qvipq9kdLuvGPi68jvdUjst28WsCQRwW9rBv52W8Ee7vmqX/BRn/gmv4F/wCCnvwr8PeCviHqfiyy8O+HfEUPiNbXRbm3txqU8EcsaQz+dDJvgKTP8qbDn+OgBn/BI/8AZktP2Pf+Cbvwc8BwWMen32n+F7K71ZEX7+o3MYnumP8A23kkr5+/4OkfjpN8Ev8Agjr4+srF5ItQ+IOo6d4Ttig5bz5/PnT/AIHbwTp/wOv0Tr5//wCCif8AwTv+Hv8AwU6/Z3m+GfxKOsR6I1/Dqtrd6TcxwX+n3UYdEmid0dM7JJE+eNxiQ/WgDH8EafbfsNf8E6h4I8M3Gn6h4s+Cfwwjf+zraVJJzPa6c5jkeMfPiee2k5P3zvr5o/4NQ/Bem6N/wR+8N+I7eZLrWvHXiTWtb124d980l2L2S0/ef7ZgtoD/AMDr6/8A2SP2FvAn7HHhTVbHw6viDX9a8SvFP4k8T+KtSk1jX/FMkaCOOS9upfnk2RjYifJGgztQZOfmbw9/wbkfBvwJ4o1pvBvxE/aH+H/gnxDeveah4D8MfEKfTfDN47feDwxp5xGMJ/r+gA4HFAH07+1z8fJPBv7D/wAYvH3ge8s9a1bwZ4S169smsZkuMahY2twwh+Tf+8jmh2FOu8YxX58/8G6v7D7eOf8AgkL8P9Y0343/ABa0HTfHFxqmo6tpPhyTStMtzef2jPbyP9qGn/2j5hjtkjLm7zxlNnybP0x+DP7OHgT9nL4N6b4B8G+E9H8O+D9NtmtLfSLK3/0co33w4/j3nl3fJfJ35r408O/8G4HwW8Fa5q9t4Y+IH7QnhH4fa9eSXWofDrQviDPYeFLzfnfHJBGgnMZ+7jz88CgD3v8A4J7fCH4D/Cz4e+Krb4Bw6ZcaeviK5svEmswXM+oXWsatAR5zT39xvku3R5CC+90R/MQYO8D6RrmfhT8LPDfwO+Hek+EvCGi6f4c8M6Dbra6fp1jD5NvaRjoiL2rpqAPlf9tD9qb9o/4G/FCx0j4P/srf8Lw8M3Wlpd3Our8TdL8N/ZLszTpJafZrqNpH2RpC/mD5P3+3+A15P/w8O/bq/wCkdf8A5nvQP/jNfoBRQB8F+Ev2+f219a8V6Zbar+wGdF0y8u4Le8v/APheOg3H9nwu4DzeWkO+TYh37BycV96E4ooPSgDxX/goT4TPxA/Yb+L2jxp5k2oeD9VjhB/vm0k2/wDj22vzr/4J9eLbj9tb9iH4F/s86SPM0hI7rXviROG8yO00m21a5+y6e5PRruSOMeWOsEcn8FfrL4o8OQeL/DOpaXd/Na6paSWkuOMo6FWrxH9gv/gn94H/AOCeXwy1Dwz4LOp3H9rXf2y+1DU5UmvbpvuojSIiLtQcIoTAy3djXk4rBTq4iM/s8tpH3mQ8UYbBZJVws7+19rGdLspKMouT/wAN+aP95I/PL9jX9oLWv2cvB37QHwf8B2/2r4q+LvjDq/h/wjahfls2dVimv3/jFvaww+YX74j/AL9fp9+yH+zRof7IX7Pfhn4faDmS10K2CzXLgCS+uH/eTzv/ALckjO5+tcT8Av8AgnJ8PP2e/wBpnx98XtJGo3ni/wAfTvNeT3syPHp4dy80dtsRSiO+GfcXJKDmvoZBsj46etVl+BlSj+9J4y4nw+Y1eXA3UZ8s6l/tT5VF/wDbq1cfOUj4D/4OSX/41r6gv/Ue08/+RGr7B/ZlmEn7PXgn/Z0GwU4/69o6+c/2uP8AgkXpP7al7dx+Nvi98ZrzRJtQfUYNDh1HT4dNsW3sUSNBZZITeUQyO7hP4zXpH7Kn7Ec37KKWFnp/xW+KnivQ9KsjYWujeIbuyubOCPKBNrJaxzZjRNiAybMZ4ooUqqxc61vdDH5hl0+G8Pl0K372E5z+F299R0v/ANun0KOlB6UDgUV6h8Kfnn/wVe/Yu+JX7Q3ww+J2rat4guvE/hTRdOa48G+BvDejbru6vPLRRNcyDfNM8chbEcfyEckHlK9b/YM/Zb8dfsyT6fptl4qt5/hDcaSlxp3h3U9K8nWtBu32P9n85Nm6EZfPn75AQic4LV9VPgN8y8Uok4/3ulcP9nUo1fbn1FbjHH1MrjlEuX2a/ux/u+XxafF8XvPUmByK/JH/AIJRaovxp/4OJf25PGevRSNr/hFLLwno/nNv+y6ckhifZ/dD/YoH7ffP9+v1ur4j/aK/4IYfCP8AaC/a+vfjVbeJvi18N/GGvW8dh4mXwN4rfQ7fxZAFRDHe+WnmbJEjjR/Ikj37M/f+eu4+XPk39tb4zaX/AMFEf+DiX9ln4S+Hy+qeEPgjcaj4w1jUlPm2t3qNt+82J/z0jt7iygg8zoJ5J4/vxvX05/wcA/tWaZ8J/wDgjB8ZfEmh6tZ6g3ifTf8AhE7G4s7lJEne9nFjOiOnXZG9z/37cVtfHb/ghF8D/jX8TPhv4p0+bx98M7z4Y+Hz4T0+DwH4gk0OK/0ffK/2Gd0TzDG/nz7zG8cknnvvd66b9sX/AIJB/CP9sv8AZj8C/BvVYdc8F/DX4faxa6xp+i+FZIbC3uPIjkjSCYPDJvgImcvjZIX+cuDzQB0H/BI/9mS0/Y9/4Ju/BzwHBYx6ffaf4XsrvVkRfv6jcxie6Y/9t5JK+Nf+DrTWbjxR+zv8Cfhpd31xovhH4m/FXS9J8R6hEf8AV22JPk+ZSnV/O57247df1crxT9tz9hn4d/8ABQn4Aan8N/iZo76x4fvJ0uoWS48m50+4T7lxBIOUkXe4+juh+RyCAeJ/tO/sP/C/wv8AAvUNS/aI+NnxQ8VfC3w7Akuo6f4h1uz0PQ3hj2bIZ7XRbWxSdPkREgKPvJxsc4ryb/g5I8VQ/AD/AIIR+LtG8AafD4f8P6kuj+HbWDTofscdhpz3UGYUjCjYjxp5OzgbJPwr1n9nv/gh78Mfgv4z0TXvE3jj41fHC88IzR3fhq3+J/i99e0/w1PHxHJa2oSOBHj/AIHdHKdUwea+jP2qf2Y/Bf7ZvwD8SfDT4haTHrnhPxRai3vbbcY5E2vvSRH/AIJI5ER0fs6CgDwzSf2gvBn/AATO/wCCTHgLWnhW40/wv4F0ux8O6TaybrnxBefYU+z2sI/5aSSFC7v0SMSSOQiO4+f/APg1x8Jx/Dz/AIJkaT4y8S6npsPi39oLxprXic/a5kguNTm3yQbY0OPMOyxkn2JnCO79K9u/ZU/4IffCH9mDw82mXes/E34opb6NdeG9Ibx74kfVh4Z0u4g8ie006FFjgtUeL5N8cYk2fJvA4q/+wZ/wRa+D/wDwT11KwvvDt3468Zah4fS6h8N3HjLWv7VHhK3uH3zwabDsSC1SQ43vGnmSfxuaAPsGvjn9p/8A4IPfsp/tl/HLXPiR8SPhW3iTxt4j8k6jqP8AwlGsWnniGCO2j/cwXUca4hhjT5EH3M9eT9jUUAfgr8RP+CIf7MXh/wD4OHPAfwLtPhm0fwt1n4PyeJ7zRT4j1T9/qIv76HzxP9q88fJBH8gk2YT7nNfot8Af+Dfr9kX9lz4zeHviF4H+Ea6F4v8ADF0LzTL7/hKNbu/s02Cm/wAue7eN/vn76Guw8V/8E6P+Eq/4K1eF/wBqJvGXk/8ACM+AH8Cjwx/ZG/z991dT/avtXnfJ/wAfOzy/JP8Aq/v84r6kJwKAIydv41+af/Bbe4h+G37aP7HfjiYw21npfjKSyv7iVtixxSXNj8zufuoiec9fpV5nH4Zr59/bt/4J6eCP+ChXhnwzpPjq41yGz8N6mNUgTTJ0gNydhR4ZHdHPluDzsKPxw4rhzChUq0OSHxH1HBubYbLc1hisZf2Vpxlbe04Sj/7cfnj/AMFIvA+oftb/ALCvxi/aW1S1kh0+6m0vSvANtMmyS30CHVI0e62f37uaUzfP/wAs0ir6X8K+IJP+Co/7Tvg/5ZLn4T/A5rXWdVuGX9x4g8UPDujtR/AyWSOHfH/LSQJ2NfUf7Qf7KPhX9oj9mnVvhPqS3mj+FNXsotPZdKZLeW0hhdHj8nKuibSiY+THH0rS/Zm/Zx8M/sm/BHQ/Afg6zFpougwiCHd8807E5eaV/wCOR2y7t3JP0rhp5fJYi6+B/F/iPpsRxxhp5QqMIP2tOc/ZdoUpxjH/AMC93/wKTl8RR/a9/ai8N/scfATWvHXiWR3sdJjCQWkPNxqVy/yQ20f+3JIQBXz/APsE/so6/rHjq9/aG+Ny2998WPFEO7S9PlObbwNp/O2ygVvuSbH/AHkn3yS47vv9E/b6/wCCcXhP/gox4f8ADuk+MvEHjDRLXw1dPfQR6BeQwGedk8sPJ50Mg+QF9mP77+1fOM//AAbTfCW4RoZviX8bpIJE2Ora7ZfP/wCSdViadeWI5lDmhH+8cmQ4jI6WVSp1cVOjWq/G1S5/c6Ri+eNubeXfRbXv92fBz4yeHPjx8PrHxT4T1S31rQL5544L23JaOVoZnhk2n2kR1/CutA/d87d3Ue1eZfsh/ss6D+xp+z74e+Gvhe61W70Pw0s4t5dSlSa6kM0zzuXdERCd8r9FHGK9OOQvbd2z3r2KPPy+/wDEfCY2GHjiKkcJd0uZ8vNvy/Zv59zkvi9pvirVvhlrlr4NvNHsfFkllImk3Op27zWcNx/A8iJ85Tg9P/Hu/wCbWrf8EtPFF7+3/o93qHibxtqHja68HXOuzfEyPQYhptrrqXkccEAg2fZY4vIM58jHmSb92/PNfqsTkY70bQP4RXPisHCv/EPayPifGZTGccI7c+/9fy/3fh7o4T9nzR/GGgfCTSbXx9qOiat4ut43TUr7SLZ7WzuG3vsdEfJT93s3dt+7HGKi/am+Ndv+zd+zV8QfiBdFBb+CfDeo66ytz5n2W1kn2fjsr0BRtIHvXlv7X/7L+h/to/s5eKPhb4ovNc03w74wt47TULjR50t7zyfOSR0R2RwA+zY+U+5I/fmuiC5YHg1avtJSmfC//BqN+zha/Cz/AIJaWfxGuv8ASPFvxp1zUPEWr30o/wBImSG6ktIEd+6fuZJh/wBfT1y//BHrw2v7W/8AwW2/bC/ar0VSfA0jQ/DXw/fRHNtrb2qWMd1PC/8AGmNNtX39MXY96+l/An/BG3wr8K/gr/wqnwj8W/jp4Z+DrefG/gzT9asfsfkzySPPbpePZPqUccjyPvSO7TOT/t5+lfgV8CPCH7Nfws0PwT4G8O2PhXwv4dgFtp+m6fCI4LdOfxd3cl3dyXdyXckmqMz8lf8Agj18J9c/a9/4KPft0/ESb4qfEDwD4w0/4it4aurPw/aaR9obTLWe6jtYJ5L7T55IxstUj/cPCT5Hz5wmz7y/Zj/ZY+AnwU/a+8UDRNWvvHHx8t9Ft59f17xHq02ua/Z6dLI6QxvPJmO1jkeN/wBxH5e8JnZsxXJ/tB/8ELfhd8bv2mNb+LXh/wAbfGj4L+NvFiIviG6+G/iw6EniDbjmddjnoBv8soHPz8uS5+gP2Tv2K/h/+xL8O7rw38PdHl0231O7k1HVL+8unvdT1m6k+/dXV1MXknkPq5/KgD86/wBk/VT8a/8Ag7U/aJvvEDedcfC/4dWmkeHLaRubOCRNMeSRP+B3U/8A4F1j/wDBXf416b+3F/wWQ/ZE/Zx0Fm1bQvCPjmTxP4nulXzbS4vdPjS7fTg4/wCWkFqknn4+59sjH30cV9efta/8EUfhZ+1p+1TZ/GqPxP8AFb4YfEiOyXTNQ1j4f+JDoVxrdsqBRDdP5buR5aiMmMxvsCDPyJip8dv+CFPwQ+Mx+E7aPN8QPhddfB0XUOh6h4G8QvpV9JDc/wDH1HPcFHkfz90jSTB0ncySfvPnNAHvn7Sv7T2j/BT9kf4nfEyz1Ox1O08A6Hq9+8ltNHNH9psoZd9v1wZPOj8vZ13/ACV8Y/8ABq9+zpD8IP8AglF4b8WXlvt8TfFjV77xTq13KfMuLnM8kEG9+uDDCknPeZz1evp340/8E1fhp8T/ANgfVv2cdNh1jwD8NdVsksnHhmeOG/hjF1HdSYknjnDyTyIfMkkR5H82TJ3vvr1T9nr4K6N+zV8DvBvw78N+Z/YPgnRbTQrDz33zvDawpAjOwxufCfMfX06UAfJf/Byh8TNa+F3/AART+N2oaEXW61CxsdGnmTny7W91G1tJx/wOCd4/+2leof8ABK/wRof7M3/BKL4I2K3Fnp+j6N8PdO1XUbppNsEbzWiXd1Pv/ueZJM/0r2741fCLw38fvhd4g8GeMNHh17wv4lsn0/U9PuDII7yF+HQlCHXt8yn+Qr5isP8AgjV4Xh+B1r8Jb/4vfHHW/gzawixj8D3mu2SaebFD8li95BZx6k9qgHliF7spswmCBQB8xf8ABs14U1D41fE79q/9qS4t7q08PfHfx9N/wjInTy2nsbW6u3Mm3/t6SH/ft5Kp/wDBpfZzfE34XftMfGXXomj8b/Eb4sXsGs+b/rozDBHdhD9JNRnr9Vvhx8OdB+EHgXS/DHhjR7Dw/wCHNBtUstP02xgWC3soUGESNF4Ar5z0z/glN4Z+GfxV8beLPhX8RPip8F5PiReSal4n0vwnd6dJpmr3sh/eXfk6hZXX2ad8n57Xyf5UAfG/x2tpv26/+Dp34X6T4fze+Gf2W/CUmqeJ7uPiOz1G6Sd44N/dz59j+7zn93P/AHHq3/wcd2S/tX/tV/sZfswtH9r0z4iePj4g8QwK3/MPstkch/78T3x/7Z1+gP7Iv7Efw6/Yd8FajpHgDR7i1k16/fVdc1e+uZL/AFfxBeux33V1dSkyTOdz8nj5zsAziuX8a/8ABNnwN8Qf+Cj3hL9prVNU8VXHjrwP4ek8OaNp32uD+x7SGT7UjzCEw+Z52y7nG/z8YP3OKAPk3/g6m8cz+Ff+CYGi/Cbw3BDHqnxj8Y6L4O020jHloiJL9qH+6m+1gT23+ma7L/gtr4o0f/gm/wD8EDPHXhPwjBBY2UXhm1+Hei24XbuiutllIeP+Wn2Uzvn++K+gP2wf+Ca/gf8Abe+OXwX8c+MdZ8YW958DdePiXQ9N026gj0/ULvzLeRHukeF3k2NbR4EcicPJ/frc/b8/YE8Bf8FIf2cdS+F/xF/tRdA1C4ivo7nS5kt77T7lP9XNA7o6bxlx86PnzDQBy/7BPhLwj+wX/wAE/fh18Ptc8S+HdAk+GfgTT7/xI99qUNrFYB4y9zez73/cwPcC6O9/k+R+fkr41/4KWf8ABNHxT+xb4k+JH7aH7JnjyT4f+LrTT5/FvjjwrLi58N+NLaBHu7qYp2kePzpPR3OYzC7mSvrDwb/wRy+D/hb9mDxr8Lb4+MvElr8S7aCw8V+Jtc8QT3nijxDFAUFvHPe/f8uONPLSNAkaIX+T53zTv/8AgkfZeI/ghF8L/Enx2/aD8V/C1bdLCfwtqGs6XHHfWSYT7JPew6fHqLwGP926fa/nTIyaAPTv+Cbf7WMn7cv7DPwz+LE+k/2DeeNtIS6urAMWjt50d4pvLzz5ZkjcoTzsKV7pXP8Aw8+HWifCPwFo/hjwzpdjofh3QLSOx0/T7SHy4LKCNdqRog7AV0FAGd4u0JvFHhbUdMW9vtNbUbaS2+12U3k3VtvUr5kT4O2Rc5VsHBANfBy/8EFt4GP20v2+mA6n/hbu5fxxag9v1+tfoERmoZ1yehb1HXr6+3HNAH4O/wDBBb/glkf2oPgZ8aNTT9o39qz4cnw38Ytc0D7J4J+IH9l2mqtBBZP9tu1Fuxlu5PN2yS/LvEcfA2gV+sP7Dn7BzfsRx+Jv+L1ftAfF7/hJvshX/hZXi3/hIG0n7P8AaM/ZD5UYi80TfvODv8qLn5RXnn/BGT9gHxj/AME8/hD8WPD/AI01Hw5ql546+J+r+NrCTRrieZYrK8gtI445TLDGVmDWzkqu9RlcO3WvshBuRSy/NjPI6GgBsT5iXJxnrVe7vfsyFm5C9e2KsbVA68ZrD8b6FdeI/Cmp2FldNYXl7BJHDc7PMNuzKVDgBlzjOQNw6dqJXS0KopOpFT0T38kfmz/wR5+H+nftO/t6ftHftCahDbakIfFVxoHhyYjcIY1GGkGej/ZjaoGHOGcdCa1vjRpjftFf8HEPw5s9BCzWvwe8HPf69PHn/R3k+0iOHP3Qxa5tzjrtLelekfsd/wDBMT4hfsCfDXU/CPw3+Mmmf2X4gmS6vjr3g/7fJDeGJI5Li2Md5CE3hFwsvnBdqg7sV7p+yJ+xZ4d/ZH0vXLq0vdQ8QeLPGF4dQ8R+JdTZW1DWpzuP7wgYRF3EJGmAowBwBXg4fAzdKFKqvtNv1vdH61m3FmChmOKzHDVOdOkqNGOqtFxUW3e1rK+mt27nyb+3+/8Aw0L/AMFpP2afhvGq3Fl4Dgn8Z6kN3ywuC8luzY7h7FAPTzveui/4OMfjLqPww/4JyS2OnT3UbeO9ctNAmeBl8z7OyTXMoP8AssLYIcHkOR0ruP2nf+CWup/Gn9snT/jJ4R+LfiD4c61/YZ8P6qllpkVzLdWhLFlglkYfZ3O4ZfZIRtXG0iuq/ai/4JmeDP2lP2LrH4Ky3GpaZpWirbyaTfSTNeXdtcQZxK5kP71mDurZYbhI/IwKKmHxDp4iPWTsvusY4bPsop4rJ6sql6eHS5o8r0leUpSfRq7T0vt9+l8YviD4W/4Jvf8ABP6e6b7Lb6d4D8MC002324+2zxwBIIwOpLuFyfdmPc15J/wb/wDwlk+Fn/BOXQNSvVZdS8c6hd+Irh5BmSQvJ5UbvzyzQwxNgdM4rQ0P/glFqfjL4Ualo3xg+MXiT4rao2iXWh6PfTWEOn2vh9JoWgNxFboziS5EbMpmmZ3IdxlQxzd/ZZ/4JZ6h8C/h7HpHij4reKPG99ofh278MeGrhbdNMs/DVnPG0ZeK2QsJJwu1fMleQkKMBRxVRp11iKcuTRRa+ZzYjF5R/Y2JwixfNVrVVOb5ZWnFJ25e1m7u9vLz4H9tX9gr4ofCb9pDXP2lP2cNfhj8aXtop8S+EtQj82y8Txwqi7I8EbZCsYBGdxP3XQ5B9/8A+CbP7bun/wDBQD9mDS/H1rpv9j37XMmn6pYiTzltbmPaWCSYG+NlZJFbHRwK4z4OfsR/Gr4DfA+1+Gug/HLQ28K6bZmwsLy88EtNrVhBwESK4W+WDKDIDPbvgAelewfsdfsieEv2JfgTpPgLwWlzJptjulku7uRZLi+mfBknkZQqlmIBwAAAAAAAANsPh5RxDlTVotXd/wCY4M5zfB18q+q15xq16coxpVIxabp2d4zuldbcu7Wutj16I5jX6U6mxHMa/SnV62vU+BCiiigAooooAKKKKAGyx+ZHtr53/Yw/4JhfBf8A4J63+rTfB/wzrHhOLXWJv7P/AISnWNRsrtjsPnG2urqSDzvkA84J5m3K78EivoqigAooooAKKKKACiiigAooooAKKKKACiiigAooooAMUYoooAMUYoooAKKKKACiiigAxRiiigAooooAKKKKACiiigAooooAKKKKACiiigAooooAMUYoooAMUYoooAKMUUUAGKKKKADFGKKKACjFFFABRRRQAUUUUAFFFFABRRRQAUUUUAFFFFABRRRQAUUUUAFFFFABRRRQAUYoooATaM9B1z0paKKADFN8pc/dHr0p1FADBbxg52L+VKIVA+6KdRQTypbDDbxsfur+VKYUP8K/lTqKChvlKG3bRmgRKD90U6igBrwI4+ZVPOeRQIVC7dq49MU6igOlgAwKKKKACiiigAooooAKKKKACiiigAooooAKKKKACiiigAooooAKKKKACiiigAooooAKKKKACiiigAooooAKKKKACiiigAooooAKKKKACiiigAooooAKKKKACiiigAooooAKKKKACiiigAooooAKKKKACiiigAooooAKKKKACiiigAooooAKKKKACiiigAooooAKKKKACiiigAooooAKKKKACiiigAooooAKKKKACiiigAooooAKKKKACiiigAooooAKKKKACiiigAooooAKKKKACiiigAooooAKKKKACiiigAooooAKKKKACiiigAooooAKKKKACiiigAooooAKKKKACiiigAooooAKKKKACiiigAooooAKKKKACiiigAooooAKKKKACiiigAooooAKKKKACiiigAooooAKKKKACiiigAooooAKKKKACiiigAooooAKKKKACiiigAooooAKKKKACiiigAooooAKKKKACiiigAooooAKKKKACiiigAooooAKKKKACiiigAooooAKKKKACiiigAooooAKKKKACiiigAooooAKKKKACiiigAooooAKKKKACiiigAooooAKKKKACiiigAooooAKKKKACiiigAooooAKKKKACiiigAooooAKKKKACiiigAooooAKKKKACiiigAooooAKKKKACiiigAooooAKKKKACiiigAooooAKKKKACiiigAooooAKKKKACiiigAooooAKKKKACiiigAooooAKKKKACiiigD//2Q==)"
      ]
    },
    {
      "cell_type": "markdown",
      "metadata": {
        "id": "XK0EzuWDPQLd"
      },
      "source": [
        "##### Now is the time to implement mini batch gradient descent. "
      ]
    },
    {
      "cell_type": "code",
      "execution_count": null,
      "metadata": {
        "scrolled": false,
        "colab": {
          "base_uri": "https://localhost:8080/"
        },
        "id": "yKaDV3mMPQLd",
        "outputId": "1bd986ea-bc53-4978-f199-072543af2abb"
      },
      "outputs": [
        {
          "output_type": "execute_result",
          "data": {
            "text/plain": [
              "(array([0.70712464, 0.67456527]), -0.23034857438407427, 0.0068641890429808105)"
            ]
          },
          "metadata": {},
          "execution_count": 18
        }
      ],
      "source": [
        "def batch_gradient_descent(X, y_true, epochs, learning_rate = 0.01):\n",
        "\n",
        "    number_of_features = X.shape[1]\n",
        "    # numpy array with 1 row and columns equal to number of features. In \n",
        "    # our case number_of_features = 2 (area, bedroom)\n",
        "    w = np.ones(shape=(number_of_features)) \n",
        "    b = 0\n",
        "    total_samples = X.shape[0] # number of rows in X\n",
        "    \n",
        "    cost_list = []\n",
        "    epoch_list = []\n",
        "    \n",
        "    for i in range(epochs):        \n",
        "        y_predicted = np.dot(w, X.T) + b\n",
        "\n",
        "        w_grad = -(2/total_samples)*(X.T.dot(y_true-y_predicted))\n",
        "        b_grad = -(2/total_samples)*np.sum(y_true-y_predicted)\n",
        "        \n",
        "        w = w - learning_rate * w_grad\n",
        "        b = b - learning_rate * b_grad\n",
        "        \n",
        "        cost = np.mean(np.square(y_true-y_predicted)) # MSE (Mean Squared Error)\n",
        "        \n",
        "        if i%10==0:\n",
        "            cost_list.append(cost)\n",
        "            epoch_list.append(i)\n",
        "        \n",
        "    return w, b, cost, cost_list, epoch_list\n",
        "\n",
        "w, b, cost, cost_list, epoch_list = batch_gradient_descent(scaled_X,scaled_y.reshape(scaled_y.shape[0],),500)\n",
        "w, b, cost"
      ]
    },
    {
      "cell_type": "markdown",
      "metadata": {
        "id": "P47050BNPQLe"
      },
      "source": [
        "###### Check price equation above. In that equation we were trying to find values of w1,w2 and bias. Here we got these values for each of them,\n",
        "w1 = 0.66469087\n",
        "w2 = 0.60541671\n",
        "bias = -0.17792104056392882"
      ]
    },
    {
      "cell_type": "markdown",
      "metadata": {
        "id": "_bdEuiQoPQLe"
      },
      "source": [
        "###### Now plot epoch vs cost graph to see how cost reduces as number of epoch increases"
      ]
    },
    {
      "cell_type": "code",
      "execution_count": null,
      "metadata": {
        "scrolled": true,
        "colab": {
          "base_uri": "https://localhost:8080/",
          "height": 296
        },
        "id": "gDQ-UrB3PQLf",
        "outputId": "c5d71849-ebe0-4462-8c8b-df6918cbea1b"
      },
      "outputs": [
        {
          "output_type": "execute_result",
          "data": {
            "text/plain": [
              "[<matplotlib.lines.Line2D at 0x7f53b5005850>]"
            ]
          },
          "metadata": {},
          "execution_count": 21
        },
        {
          "output_type": "display_data",
          "data": {
            "text/plain": [
              "<Figure size 432x288 with 1 Axes>"
            ],
            "image/png": "[encoded data removed]"
          },
          "metadata": {
            "needs_background": "light"
          }
        }
      ],
      "source": [
        "plt.xlabel(\"epoch\")\n",
        "plt.ylabel(\"cost\")\n",
        "plt.plot(epoch_list,cost_list)"
      ]
    },
    {
      "cell_type": "markdown",
      "metadata": {
        "id": "IFx7IutYPQLf"
      },
      "source": [
        "###### Lets do some predictions now. "
      ]
    },
    {
      "cell_type": "code",
      "execution_count": null,
      "metadata": {
        "colab": {
          "base_uri": "https://localhost:8080/"
        },
        "id": "lP_30wl5PQLf",
        "outputId": "24f9587b-e4a3-4696-9e42-e13eb299b4a8"
      },
      "outputs": [
        {
          "output_type": "execute_result",
          "data": {
            "text/plain": [
              "128.45484403267596"
            ]
          },
          "metadata": {},
          "execution_count": 33
        }
      ],
      "source": [
        "def predict(area,bedrooms,w,b):\n",
        "    scaled_X = sx.transform([[area, bedrooms]])[0]\n",
        "    # here w1 = w[0] , w2 = w[1], w3 = w[2] and bias is b\n",
        "    # equation for price is w1*area + w2*bedrooms + w3*age + bias\n",
        "    # scaled_X[0] is area\n",
        "    # scaled_X[1] is bedrooms\n",
        "    # scaled_X[2] is age\n",
        "    scaled_price = w[0] * scaled_X[0] + w[1] * scaled_X[1] + b\n",
        "    # once we get price prediction we need to to rescal it back to original value\n",
        "    # also since it returns 2D array, to get single value we need to do value[0][0]\n",
        "    return sy.inverse_transform([[scaled_price]])[0][0]\n",
        "\n",
        "predict(2600,4,w,b)"
      ]
    },
    {
      "cell_type": "code",
      "execution_count": null,
      "metadata": {
        "colab": {
          "base_uri": "https://localhost:8080/"
        },
        "id": "GGNjgfduPQLg",
        "outputId": "c33e1200-c4f7-412c-987d-fd23068452c5"
      },
      "outputs": [
        {
          "output_type": "execute_result",
          "data": {
            "text/plain": [
              "30.253094462442355"
            ]
          },
          "metadata": {},
          "execution_count": 31
        }
      ],
      "source": [
        "predict(1000,2,w,b)"
      ]
    },
    {
      "cell_type": "code",
      "execution_count": null,
      "metadata": {
        "scrolled": true,
        "colab": {
          "base_uri": "https://localhost:8080/"
        },
        "id": "tMusU-fgPQLg",
        "outputId": "3676cff5-7746-4b08-fe87-f8ae5def247c"
      },
      "outputs": [
        {
          "output_type": "execute_result",
          "data": {
            "text/plain": [
              "69.47860785714694"
            ]
          },
          "metadata": {},
          "execution_count": 32
        }
      ],
      "source": [
        "predict(1500,3,w,b)"
      ]
    },
    {
      "cell_type": "markdown",
      "metadata": {
        "id": "shksNB7WPQLh"
      },
      "source": [
        "<h3 style='color:purple'>(2) Stochastic Gradient Descent Implementation</h3>"
      ]
    },
    {
      "cell_type": "markdown",
      "metadata": {
        "id": "v-9BCqIKPQLh"
      },
      "source": [
        "#### Stochastic GD will use randomly picked single training sample to calculate error and using this error we backpropage to adjust weights"
      ]
    },
    {
      "cell_type": "code",
      "execution_count": null,
      "metadata": {
        "colab": {
          "base_uri": "https://localhost:8080/"
        },
        "id": "Bha_EUqrPQLi",
        "outputId": "e8c7b01d-27b5-4132-fd1d-8d2b4a562cba"
      },
      "outputs": [
        {
          "output_type": "execute_result",
          "data": {
            "text/plain": [
              "1"
            ]
          },
          "metadata": {},
          "execution_count": 34
        }
      ],
      "source": [
        "# we will use random libary to pick random training sample.\n",
        "import random\n",
        "random.randint(0,6) # randit gives random number between two numbers specified in the argument"
      ]
    },
    {
      "cell_type": "code",
      "execution_count": null,
      "metadata": {
        "colab": {
          "base_uri": "https://localhost:8080/"
        },
        "id": "fJctmxBPPQLi",
        "outputId": "4f105b45-0fc8-4449-c1f0-e0c657695b67"
      },
      "outputs": [
        {
          "output_type": "execute_result",
          "data": {
            "text/plain": [
              "(array([0.70637689, 0.67546823]), -0.2301719969474593, 0.009718008841780102)"
            ]
          },
          "metadata": {},
          "execution_count": 39
        }
      ],
      "source": [
        "def stochastic_gradient_descent(X, y_true, epochs, learning_rate = 0.01):\n",
        " \n",
        "    number_of_features = X.shape[1]\n",
        "    # numpy array with 1 row and columns equal to number of features. In \n",
        "    # our case number_of_features = 3 (area, bedroom and age)\n",
        "    w = np.ones(shape=(number_of_features)) \n",
        "    b = 0\n",
        "    total_samples = X.shape[0]\n",
        "    \n",
        "    cost_list = []\n",
        "    epoch_list = []\n",
        "    \n",
        "    for i in range(epochs):    \n",
        "        random_index = random.randint(0,total_samples-1) # random index from total samples\n",
        "        sample_x = X[random_index]\n",
        "        sample_y = y_true[random_index]\n",
        "        \n",
        "        y_predicted = np.dot(w, sample_x.T) + b\n",
        "    \n",
        "        w_grad = -(2/total_samples)*(sample_x.T.dot(sample_y-y_predicted))\n",
        "        b_grad = -(2/total_samples)*(sample_y-y_predicted)\n",
        "        \n",
        "        w = w - learning_rate * w_grad\n",
        "        b = b - learning_rate * b_grad\n",
        "        \n",
        "        cost = np.square(sample_y-y_predicted)\n",
        "        \n",
        "        if i%100==0: # at every 100th iteration record the cost and epoch value\n",
        "            cost_list.append(cost)\n",
        "            epoch_list.append(i)\n",
        "        \n",
        "    return w, b, cost, cost_list, epoch_list\n",
        "\n",
        "w_sgd, b_sgd, cost_sgd, cost_list_sgd, epoch_list_sgd = stochastic_gradient_descent(scaled_X,scaled_y.reshape(scaled_y.shape[0],),10000)\n",
        "w_sgd, b_sgd, cost_sgd"
      ]
    },
    {
      "cell_type": "markdown",
      "metadata": {
        "id": "LdDVyBxqPQLi"
      },
      "source": [
        "Compare this with weights and bias that we got using gradient descent. They both of quite similar."
      ]
    },
    {
      "cell_type": "code",
      "execution_count": null,
      "metadata": {
        "colab": {
          "base_uri": "https://localhost:8080/"
        },
        "id": "pWdnS0w8PQLj",
        "outputId": "bb7b690f-ee53-4a73-f0a6-7fd9a41f0611"
      },
      "outputs": [
        {
          "output_type": "execute_result",
          "data": {
            "text/plain": [
              "(array([0.70712464, 0.67456527]), -0.23034857438407427)"
            ]
          },
          "metadata": {},
          "execution_count": 41
        }
      ],
      "source": [
        "w , b "
      ]
    },
    {
      "cell_type": "code",
      "execution_count": null,
      "metadata": {
        "colab": {
          "base_uri": "https://localhost:8080/",
          "height": 296
        },
        "id": "nVEDiO3XPQLj",
        "outputId": "01f05a83-5e4a-4da3-8db7-421c7a7fc774"
      },
      "outputs": [
        {
          "output_type": "execute_result",
          "data": {
            "text/plain": [
              "[<matplotlib.lines.Line2D at 0x7f53b4e92810>]"
            ]
          },
          "metadata": {},
          "execution_count": 40
        },
        {
          "output_type": "display_data",
          "data": {
            "text/plain": [
              "<Figure size 432x288 with 1 Axes>"
            ],
            "image/png": "[encoded data removed]"
          },
          "metadata": {
            "needs_background": "light"
          }
        }
      ],
      "source": [
        "plt.xlabel(\"epoch\")\n",
        "plt.ylabel(\"cost\")\n",
        "plt.plot(epoch_list_sgd,cost_list_sgd)"
      ]
    },
    {
      "cell_type": "code",
      "execution_count": null,
      "metadata": {
        "colab": {
          "base_uri": "https://localhost:8080/"
        },
        "id": "NP3IDdzbPQLj",
        "outputId": "2d8e87a6-b037-4f70-ba51-f8f4918a9429"
      },
      "outputs": [
        {
          "output_type": "execute_result",
          "data": {
            "text/plain": [
              "128.50745072526027"
            ]
          },
          "metadata": {},
          "execution_count": 42
        }
      ],
      "source": [
        "predict(2600,4,w_sgd, b_sgd) "
      ]
    },
    {
      "cell_type": "code",
      "execution_count": null,
      "metadata": {
        "colab": {
          "base_uri": "https://localhost:8080/"
        },
        "id": "sYwPQMc9PQLj",
        "outputId": "e93270a6-ef84-42a9-ab7d-2853120391cf"
      },
      "outputs": [
        {
          "output_type": "execute_result",
          "data": {
            "text/plain": [
              "30.300445730079996"
            ]
          },
          "metadata": {},
          "execution_count": 43
        }
      ],
      "source": [
        "predict(1000,2,w_sgd, b_sgd)"
      ]
    },
    {
      "cell_type": "code",
      "execution_count": null,
      "metadata": {
        "colab": {
          "base_uri": "https://localhost:8080/"
        },
        "id": "dGeqPXYWPQLk",
        "outputId": "05203271-b0fd-41f8-ce3d-6b01ad1651c6"
      },
      "outputs": [
        {
          "output_type": "execute_result",
          "data": {
            "text/plain": [
              "69.53902963786857"
            ]
          },
          "metadata": {},
          "execution_count": 44
        }
      ],
      "source": [
        "predict(1500,3,w_sgd, b_sgd)"
      ]
    }
  ],
  "metadata": {
    "kernelspec": {
      "display_name": "Python 3",
      "language": "python",
      "name": "python3"
    },
    "language_info": {
      "codemirror_mode": {
        "name": "ipython",
        "version": 3
      },
      "file_extension": ".py",
      "mimetype": "text/x-python",
      "name": "python",
      "nbconvert_exporter": "python",
      "pygments_lexer": "ipython3",
      "version": "3.8.5"
    },
    "colab": {
      "provenance": [],
      "collapsed_sections": [],
      "include_colab_link": true
    }
  },
  "nbformat": 4,
  "nbformat_minor": 0
}